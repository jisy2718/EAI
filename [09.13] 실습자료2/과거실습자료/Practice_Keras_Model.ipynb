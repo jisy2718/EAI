{
 "cells": [
  {
   "cell_type": "markdown",
   "metadata": {
    "id": "4LCtH_S__a--"
   },
   "source": [
    "# Tensorflow 2 Keras Model\n",
    "\n"
   ]
  },
  {
   "cell_type": "markdown",
   "metadata": {
    "id": "gMA0ISzb_a_E"
   },
   "source": [
    "Keras에서 모델을 만드는 방법은 크게 [Sequential API](https://www.tensorflow.org/guide/keras/sequential_model)를 이용하는 방법과 [Functional API](https://www.tensorflow.org/guide/keras/functional)를 이용하는 방법이 있습니다."
   ]
  },
  {
   "cell_type": "code",
   "execution_count": 1,
   "metadata": {
    "executionInfo": {
     "elapsed": 2097,
     "status": "ok",
     "timestamp": 1632456567310,
     "user": {
      "displayName": "­지승영 / 학생 / 통계학과",
      "photoUrl": "https://lh3.googleusercontent.com/a/default-user=s64",
      "userId": "07343804724283356188"
     },
     "user_tz": -540
    },
    "id": "dpu6P6WD_a_F"
   },
   "outputs": [],
   "source": [
    "import tensorflow as tf\n",
    "from tensorflow.keras.layers import Input, Dense, Conv2D, Concatenate, Flatten, Add, MaxPooling2D, GlobalAveragePooling2D"
   ]
  },
  {
   "cell_type": "code",
   "execution_count": 2,
   "metadata": {
    "executionInfo": {
     "elapsed": 478,
     "status": "ok",
     "timestamp": 1632456570748,
     "user": {
      "displayName": "­지승영 / 학생 / 통계학과",
      "photoUrl": "https://lh3.googleusercontent.com/a/default-user=s64",
      "userId": "07343804724283356188"
     },
     "user_tz": -540
    },
    "id": "OngGhRuP_a_H"
   },
   "outputs": [],
   "source": [
    "gpu_growth = True #gpu가 한계가 있을 때, True로.\n",
    "\n",
    "if gpu_growth:\n",
    "    physical_devices = tf.config.list_physical_devices('GPU')\n",
    "    try:\n",
    "        tf.config.experimental.set_memory_growth(physical_devices[0], True)\n",
    "    except:\n",
    "        # Invalid device or cannot modify virtual devices once initialized.\n",
    "        pass"
   ]
  },
  {
   "cell_type": "markdown",
   "metadata": {
    "id": "x6tVYC6K_a_H"
   },
   "source": [
    "## Sequantial API\n",
    "\n",
    "`Sequential` API는 각 레이어에 **정확히 하나의 입력 텐서와 하나의 출력 텐서**가 있는 **일반 레이어 스택**에 적합합니다.  \n",
    "다음과 같이 모델을 만들 수 있습니다."
   ]
  },
  {
   "cell_type": "code",
   "execution_count": 3,
   "metadata": {
    "executionInfo": {
     "elapsed": 5374,
     "status": "ok",
     "timestamp": 1632456579008,
     "user": {
      "displayName": "­지승영 / 학생 / 통계학과",
      "photoUrl": "https://lh3.googleusercontent.com/a/default-user=s64",
      "userId": "07343804724283356188"
     },
     "user_tz": -540
    },
    "id": "KVOEL4Hb_a_I"
   },
   "outputs": [],
   "source": [
    "# list에 layer를 차례대로 넣습니다\n",
    "model_seq1 = tf.keras.Sequential([\n",
    "    Dense(100),\n",
    "    Dense(200),\n",
    "    Dense(300)\n",
    "])"
   ]
  },
  {
   "cell_type": "markdown",
   "metadata": {
    "id": "ZjM2nXJr_a_J"
   },
   "source": [
    "다음과 같이 `add` 메서드를 이용해서 하나씩 레이어를 추가할 수 있습니다."
   ]
  },
  {
   "cell_type": "code",
   "execution_count": 4,
   "metadata": {
    "executionInfo": {
     "elapsed": 18,
     "status": "ok",
     "timestamp": 1632456579009,
     "user": {
      "displayName": "­지승영 / 학생 / 통계학과",
      "photoUrl": "https://lh3.googleusercontent.com/a/default-user=s64",
      "userId": "07343804724283356188"
     },
     "user_tz": -540
    },
    "id": "uwDCJQ-p_a_K"
   },
   "outputs": [],
   "source": [
    "model_seq2 = tf.keras.Sequential()\n",
    "model_seq2.add(Dense(100))\n",
    "model_seq2.add(Dense(200))\n",
    "model_seq2.add(Dense(300))"
   ]
  },
  {
   "cell_type": "markdown",
   "metadata": {
    "id": "Z8tMCMOh_a_L"
   },
   "source": [
    "## Functional API\n",
    "`Functional` API는 `Sequential`API보다 더 유연한 모델을 만들 수 있습니다. 위에서 만든 모델을 `Functional` API를 이용해서 만들어 보겠습니다."
   ]
  },
  {
   "cell_type": "code",
   "execution_count": 5,
   "metadata": {
    "executionInfo": {
     "elapsed": 17,
     "status": "ok",
     "timestamp": 1632456579010,
     "user": {
      "displayName": "­지승영 / 학생 / 통계학과",
      "photoUrl": "https://lh3.googleusercontent.com/a/default-user=s64",
      "userId": "07343804724283356188"
     },
     "user_tz": -540
    },
    "id": "OIZFuHq-_a_L"
   },
   "outputs": [],
   "source": [
    "inputs = Input(shape=(784)) #먼저 Input layer를 만듭니다. shape는 임의로 설정했습니다.\n",
    "x = Dense(100)(inputs) # 각 layer의 output을 다음 layer의 input으로 넣어주면 됩니다.\n",
    "x = Dense(200)(x)\n",
    "outputs = Dense(300)(x)\n",
    "model_func = tf.keras.Model(inputs=inputs, outputs=outputs) #마지막엔 tf.keras.Model을 이용합니다."
   ]
  },
  {
   "cell_type": "markdown",
   "metadata": {
    "id": "PtweD2NC_a_M"
   },
   "source": [
    "이번에는 다양한 구조의 모델을 `Functional` API를 이용해서 만들어 보겠습니다."
   ]
  },
  {
   "cell_type": "markdown",
   "metadata": {
    "id": "PgqcVHgm_a_N"
   },
   "source": [
    "### Residual connection (Skip connection)\n",
    "\n",
    "residual connection은 특정 layer의 output이 이후의 몇개 layer를 통과하지 않고 우회하는 connection입니다."
   ]
  },
  {
   "cell_type": "code",
   "execution_count": 6,
   "metadata": {
    "executionInfo": {
     "elapsed": 18,
     "status": "ok",
     "timestamp": 1632456579011,
     "user": {
      "displayName": "­지승영 / 학생 / 통계학과",
      "photoUrl": "https://lh3.googleusercontent.com/a/default-user=s64",
      "userId": "07343804724283356188"
     },
     "user_tz": -540
    },
    "id": "XAqn9o8f_a_N"
   },
   "outputs": [],
   "source": [
    "inputs = Input(shape=(28, 28, 1))\n",
    "#code\n",
    "x = Conv2D(filters=10, kernel_size = (3,3), padding='same')(inputs) #padding='same' 은 outputs에서 합칠 때 같은 size합치기 위해서\n",
    "shortcut = x\n",
    "x = Conv2D(filters=20, kernel_size = (3,3), padding='same')(x)\n",
    "x = Conv2D(filters=10, kernel_size = (3,3), padding='same')(x)  #outputs에서 합쳐지는 개체들의 filter 수도 맞춰줘야 한다.\n",
    "\n",
    "outputs = Add()([x,shortcut]) \n",
    "model_res = tf.keras.Model(inputs=inputs, outputs= outputs)"
   ]
  },
  {
   "cell_type": "code",
   "execution_count": 7,
   "metadata": {
    "id": "MEN6ry-a_a_N"
   },
   "outputs": [],
   "source": [
    "#!pip install pydot pydotplus graphviz "
   ]
  },
  {
   "cell_type": "code",
   "execution_count": 8,
   "metadata": {},
   "outputs": [
    {
     "name": "stdout",
     "output_type": "stream",
     "text": [
      "('You must install pydot (`pip install pydot`) and install graphviz (see instructions at https://graphviz.gitlab.io/download/) ', 'for plot_model/model_to_dot to work.')\n"
     ]
    }
   ],
   "source": [
    "tf.keras.utils.plot_model(model_res)"
   ]
  },
  {
   "cell_type": "code",
   "execution_count": 7,
   "metadata": {
    "colab": {
     "base_uri": "https://localhost:8080/",
     "height": 466
    },
    "executionInfo": {
     "elapsed": 761,
     "status": "ok",
     "timestamp": 1632456583278,
     "user": {
      "displayName": "­지승영 / 학생 / 통계학과",
      "photoUrl": "https://lh3.googleusercontent.com/a/default-user=s64",
      "userId": "07343804724283356188"
     },
     "user_tz": -540
    },
    "id": "sE6WEM9y_a_O",
    "outputId": "841d959e-8b55-43b9-cd10-f204442783a5",
    "scrolled": false
   },
   "outputs": [
    {
     "data": {
      "image/png": "[encoded data removed]",
      "text/plain": [
       "<IPython.core.display.Image object>"
      ]
     },
     "execution_count": 7,
     "metadata": {},
     "output_type": "execute_result"
    }
   ],
   "source": [
    "tf.keras.utils.plot_model(model_res)"
   ]
  },
  {
   "cell_type": "code",
   "execution_count": null,
   "metadata": {
    "id": "i6HmC1eJ_a_P"
   },
   "outputs": [],
   "source": []
  },
  {
   "cell_type": "code",
   "execution_count": null,
   "metadata": {
    "id": "EcHVhgE__a_P"
   },
   "outputs": [],
   "source": []
  },
  {
   "cell_type": "markdown",
   "metadata": {
    "id": "tPXLfKf1_a_Q"
   },
   "source": [
    "### Multiple inputs / outputs\n",
    "\n",
    "특정 layer의 output을 여러 layer가 동시에 input으로 이용하는 경우, 여러 layer의 output이 하나의 layer의 input으로 들어가는 경우도 가능합니다."
   ]
  },
  {
   "cell_type": "code",
   "execution_count": 10,
   "metadata": {
    "executionInfo": {
     "elapsed": 922,
     "status": "ok",
     "timestamp": 1632456821546,
     "user": {
      "displayName": "­지승영 / 학생 / 통계학과",
      "photoUrl": "https://lh3.googleusercontent.com/a/default-user=s64",
      "userId": "07343804724283356188"
     },
     "user_tz": -540
    },
    "id": "g9fY6Y0J_a_Q"
   },
   "outputs": [],
   "source": [
    "inputs = Input(shape=(28, 28, 1))\n",
    "#code\n",
    "x1 = Conv2D(filters = 10, kernel_size = (3,3), padding='same')(inputs)\n",
    "\n",
    "x_1_1 = Conv2D(filters = 10, kernel_size = (3,3), padding='same')(x1)\n",
    "x_2_1 = Conv2D(filters = 10, kernel_size = (3,3), padding='same')(x1)\n",
    "x_3_1 = Conv2D(filters = 10, kernel_size = (3,3), padding='same')(x1)\n",
    "\n",
    "x_1_2 = Conv2D(filters = 10, kernel_size = (3,3), padding='same')(x_1_1)\n",
    "x_2_2 = Conv2D(filters = 10, kernel_size = (3,3), padding='same')(x_2_1)\n",
    "x_3_2 = Conv2D(filters = 10, kernel_size = (3,3), padding='same')(x_3_1)\n",
    "\n",
    "x = Concatenate(axis=-1)([x_1_2, x_2_2, x_3_2]) #가장 마지막 축 설정\n",
    "\n",
    "x = Flatten()(x)\n",
    "outputs = Dense(10)(x)\n",
    "model_multi = tf.keras.Model(inputs=inputs, outputs=outputs) "
   ]
  },
  {
   "cell_type": "code",
   "execution_count": 11,
   "metadata": {
    "colab": {
     "base_uri": "https://localhost:8080/",
     "height": 661
    },
    "executionInfo": {
     "elapsed": 765,
     "status": "ok",
     "timestamp": 1632456826602,
     "user": {
      "displayName": "­지승영 / 학생 / 통계학과",
      "photoUrl": "https://lh3.googleusercontent.com/a/default-user=s64",
      "userId": "07343804724283356188"
     },
     "user_tz": -540
    },
    "id": "u5Mj6CRS_a_Q",
    "outputId": "afde650e-e85b-4c2b-c9ca-49984df50a6d",
    "scrolled": false
   },
   "outputs": [
    {
     "data": {
      "image/png": "[encoded data removed]",
      "text/plain": [
       "<IPython.core.display.Image object>"
      ]
     },
     "execution_count": 11,
     "metadata": {},
     "output_type": "execute_result"
    }
   ],
   "source": [
    "tf.keras.utils.plot_model(model_multi)"
   ]
  },
  {
   "cell_type": "markdown",
   "metadata": {
    "id": "2VJMu7rc_a_R"
   },
   "source": [
    "### Sharing layer\n",
    "\n",
    "두 개의 모델이 특정 layer를 공유할 수도 있습니다."
   ]
  },
  {
   "cell_type": "code",
   "execution_count": 12,
   "metadata": {
    "executionInfo": {
     "elapsed": 468,
     "status": "ok",
     "timestamp": 1632457066161,
     "user": {
      "displayName": "­지승영 / 학생 / 통계학과",
      "photoUrl": "https://lh3.googleusercontent.com/a/default-user=s64",
      "userId": "07343804724283356188"
     },
     "user_tz": -540
    },
    "id": "Qg6oisoK_a_R"
   },
   "outputs": [],
   "source": [
    "# 공유할 layer\n",
    "layer_share = Conv2D(filters = 10, kernel_size = (3,3))\n",
    "\n",
    "# Model 1\n",
    "inputs1 = Input(shape=(28, 28, 1))\n",
    "#code\n",
    "x1 = Conv2D(filters = 10, kernel_size = (3,3))(inputs1)\n",
    "x1 = layer_share(x1)\n",
    "x1 = Conv2D(filters = 10, kernel_size = (3,3))(x1)\n",
    "\n",
    "outputs1 = Conv2D(filters = 10, kernel_size = (3,3))(x1)\n",
    "model1 = tf.keras.Model(inputs=inputs1, outputs=outputs1)\n",
    "\n",
    "\n",
    "# Model 2\n",
    "inputs2 = Input(shape=(32, 32, 3))\n",
    "#code\n",
    "x2 = Conv2D(filters = 10, kernel_size = (3,3))(inputs2)\n",
    "x2 = layer_share(x2)\n",
    "\n",
    "\n",
    "outputs2 = Conv2D(filters = 10, kernel_size = (3,3))(x2)\n",
    "model2 = tf.keras.Model(inputs=inputs2, outputs=outputs2)"
   ]
  },
  {
   "cell_type": "code",
   "execution_count": 13,
   "metadata": {
    "colab": {
     "base_uri": "https://localhost:8080/",
     "height": 466
    },
    "executionInfo": {
     "elapsed": 7,
     "status": "ok",
     "timestamp": 1632457068731,
     "user": {
      "displayName": "­지승영 / 학생 / 통계학과",
      "photoUrl": "https://lh3.googleusercontent.com/a/default-user=s64",
      "userId": "07343804724283356188"
     },
     "user_tz": -540
    },
    "id": "L-vY-PGM_a_S",
    "outputId": "e23efd98-583e-414d-8ff9-d86799244d9d",
    "scrolled": false
   },
   "outputs": [
    {
     "data": {
      "image/png": "[encoded data removed]",
      "text/plain": [
       "<IPython.core.display.Image object>"
      ]
     },
     "execution_count": 13,
     "metadata": {},
     "output_type": "execute_result"
    }
   ],
   "source": [
    "model = tf.keras.Model(inputs=[inputs1, inputs2], outputs=[outputs1, outputs2])\n",
    "tf.keras.utils.plot_model(model)"
   ]
  },
  {
   "cell_type": "markdown",
   "metadata": {
    "id": "-Ubrm1cr_a_S"
   },
   "source": [
    "이와 같이 `Functional` API를 이용하면 모델을 유연하게 만들 수 있습니다."
   ]
  },
  {
   "cell_type": "code",
   "execution_count": null,
   "metadata": {
    "id": "b8Bsdn9C_a_S"
   },
   "outputs": [],
   "source": []
  },
  {
   "cell_type": "code",
   "execution_count": null,
   "metadata": {
    "id": "Q88fkdho_a_S"
   },
   "outputs": [],
   "source": []
  },
  {
   "cell_type": "markdown",
   "metadata": {
    "id": "Yc27JCBG_a_T"
   },
   "source": [
    "# 실습: ResNet-34 구현"
   ]
  },
  {
   "cell_type": "markdown",
   "metadata": {
    "id": "Cgoc66av_a_T"
   },
   "source": [
    "다음은 [ResNet-34](https://openaccess.thecvf.com/content_cvpr_2016/papers/He_Deep_Residual_Learning_CVPR_2016_paper.pdf) 모델의 구조이다. `ResBlock`함수를 작성한 다음 `ResNet34`함수를 이용하여 ResNet-34를 구현해보자.\n",
    "\n",
    "<img src=\"https://user-images.githubusercontent.com/37704174/108679234-904fe580-752f-11eb-8ebe-a2c08e029543.JPG\" width=\"200\" height=\"200\" />\n",
    "\n",
    "\n",
    "- Hint: 점선으로 된 residual connection은 shape를 맞춰주기 위해 convolution layer 하나를 통과시켜 주어야 한다(projection shortcut). 즉, 실제로는 다음과 같이 구성된다.\n",
    "\n",
    "<img src=\"https://user-images.githubusercontent.com/37704174/108679932-8da1c000-7530-11eb-92b1-ef56fad3e153.png\" width=\"200\" height=\"200\" align=\"middle\" />\n",
    "\n",
    "- `padding=\"same\"`"
   ]
  },
  {
   "cell_type": "code",
   "execution_count": null,
   "metadata": {
    "id": "RRr8ex_b_a_T"
   },
   "outputs": [],
   "source": []
  },
  {
   "cell_type": "code",
   "execution_count": 3,
   "metadata": {
    "id": "TqRUZ6NO_a_T"
   },
   "outputs": [],
   "source": [
    "def ResBlock(x, filters, strides=1):\n",
    "    ##################\n",
    "    # Your code here\n",
    "    ##################\n",
    "    shortcut = x\n",
    "    \n",
    "    if strides != 1:\n",
    "        shortcut = Conv2D(filters = filters, kernel_size = (3,3), strides = strides, padding = 'same')(shortcut)\n",
    "    \n",
    "    x = Conv2D(filters = filters, kernel_size = (3,3), strides = strides, padding = 'same')(x)\n",
    "    x = Conv2D(filters = filters, kernel_size = (3,3), strides = 1, padding = 'same')(x)    \n",
    "    \n",
    "    x = Add()([x, shortcut])\n",
    "    \n",
    "    return x"
   ]
  },
  {
   "cell_type": "code",
   "execution_count": 4,
   "metadata": {
    "id": "SPQdqaml_a_U"
   },
   "outputs": [],
   "source": [
    "def ResNet34():\n",
    "    inputs = Input(shape=(224, 224, 3))\n",
    "    ##################\n",
    "    # Your code here\n",
    "    ##################\n",
    "    x = Conv2D(filters=64, kernel_size = (7,7), strides=2, padding='same')(inputs)\n",
    "    x = MaxPooling2D(pool_size = 2, strides=2)(x)\n",
    "    \n",
    "    x = ResBlock(x, filters = 64)\n",
    "    x = ResBlock(x, filters = 64)\n",
    "    x = ResBlock(x, filters = 64)\n",
    "    \n",
    "    x = ResBlock(x, filters = 128, strides = 2)\n",
    "    x = ResBlock(x, filters = 128)\n",
    "    x = ResBlock(x, filters = 128)\n",
    "    x = ResBlock(x, filters = 128)\n",
    "    \n",
    "    x = ResBlock(x, filters = 256, strides = 2)\n",
    "    x = ResBlock(x, filters = 256)\n",
    "    x = ResBlock(x, filters = 256)\n",
    "    x = ResBlock(x, filters = 256)\n",
    "    x = ResBlock(x, filters = 256)\n",
    "    x = ResBlock(x, filters = 256)\n",
    "    \n",
    "    x = ResBlock(x, filters = 512, strides = 2)\n",
    "    x = ResBlock(x, filters = 512)\n",
    "    x = ResBlock(x, filters = 512)\n",
    "    \n",
    "    x = GlobalAveragePooling2D()(x)\n",
    "    \n",
    "\n",
    "    outputs = Dense(1000)(x)\n",
    "    \n",
    "    return tf.keras.Model(inputs=inputs, outputs=outputs)"
   ]
  },
  {
   "cell_type": "code",
   "execution_count": 5,
   "metadata": {
    "id": "6hGqJLOZ_a_U"
   },
   "outputs": [],
   "source": [
    "resnet34 = ResNet34()"
   ]
  },
  {
   "cell_type": "code",
   "execution_count": 6,
   "metadata": {
    "id": "_sJXxaWC_a_U",
    "scrolled": true
   },
   "outputs": [
    {
     "name": "stdout",
     "output_type": "stream",
     "text": [
      "('You must install pydot (`pip install pydot`) and install graphviz (see instructions at https://graphviz.gitlab.io/download/) ', 'for plot_model/model_to_dot to work.')\n"
     ]
    }
   ],
   "source": [
    "tf.keras.utils.plot_model(resnet34)"
   ]
  },
  {
   "cell_type": "code",
   "execution_count": null,
   "metadata": {},
   "outputs": [],
   "source": []
  }
 ],
 "metadata": {
  "accelerator": "GPU",
  "colab": {
   "collapsed_sections": [],
   "name": "Practice_Keras_Model.ipynb",
   "provenance": []
  },
  "kernelspec": {
   "display_name": "Python 3",
   "language": "python",
   "name": "python3"
  },
  "language_info": {
   "codemirror_mode": {
    "name": "ipython",
    "version": 3
   },
   "file_extension": ".py",
   "mimetype": "text/x-python",
   "name": "python",
   "nbconvert_exporter": "python",
   "pygments_lexer": "ipython3",
   "version": "3.9.1"
  }
 },
 "nbformat": 4,
 "nbformat_minor": 1
}
