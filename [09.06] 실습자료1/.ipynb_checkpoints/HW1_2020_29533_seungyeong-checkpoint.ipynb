{
 "cells": [
  {
   "cell_type": "markdown",
   "metadata": {
    "id": "zvPB-BX_hgX-"
   },
   "source": [
    "# Tensorflow 2를 활용한 Multi Layer Perceptron 실습\n",
    "이번 실습에서는 Tensorflow 2를 활용하여 가장 간단한 Neural Network 구조인 MLP(Multi Layer Perceptron)을 직접 생성해 본다.<br>\n",
    "입문과정용으로 많이 쓰이는 Fashion MNIST dataset을 이용하여 옷의 종류를 구분해보는 Neural Network를 만들어 볼 것이다. <br>\n",
    "먼저 Tensorflow를 Import한다."
   ]
  },
  {
   "cell_type": "code",
   "execution_count": 1,
   "metadata": {
    "id": "lPurhqAPhgYA"
   },
   "outputs": [],
   "source": [
    "import tensorflow as tf"
   ]
  },
  {
   "cell_type": "markdown",
   "metadata": {
    "id": "shot-I-whgYB"
   },
   "source": [
    "## Dataset 불러오기\n",
    "Tensorflow에서는 Fashion MNIST dataset을 불러오기 편하도록 Library에 기본 함수로 지정해 두었다. 아래 명령어를 수행하여 데이터셋을 로드하고, Train/Test set으로 구분해 주자.<br>\n",
    "Fashion MNIST는 총 10개의 class가 있고, 각 이미지별로 0~9의 Label이 지정되어 있다. 0은 T-shirt/top, 1은 Trouser,..에 해당하고, 이를 식별하기 쉽게 class_names에 저장해 두자."
   ]
  },
  {
   "cell_type": "code",
   "execution_count": 11,
   "metadata": {
    "id": "elDLiczBhgYC"
   },
   "outputs": [],
   "source": [
    "fashion_mnist = tf.keras.datasets.fashion_mnist\n",
    "\n",
    "#Load data\n",
    "###### 아래 빈칸. 실습하면서 완성 #####\n",
    "(x_train,y_train),(x_test,y_test) = fashion_mnist.load_data()\n",
    "\n",
    "###### 빈칸 끝 ##### \n",
    "\n",
    "class_names = ['T-shirt/top', 'Trouser', 'Pullover', 'Dress', 'Coat',\n",
    "               'Sandal', 'Shirt', 'Sneaker', 'Bag', 'Ankle boot']\n",
    "\n",
    "\n",
    "#Split train set into train/valid set\n",
    "from sklearn import model_selection\n",
    "\n",
    "###### 아래 빈칸. 실습하면서 완성 #####\n",
    "x_train, x_valid, y_train, y_valid = model_selection.train_test_split(x_train, y_train, test_size = 0.2, random_state=42)\n",
    "\n",
    "###### 빈칸 끝 ##### \n"
   ]
  },
  {
   "cell_type": "code",
   "execution_count": 16,
   "metadata": {},
   "outputs": [
    {
     "data": {
      "text/plain": [
       "(48000, 28, 28)"
      ]
     },
     "execution_count": 16,
     "metadata": {},
     "output_type": "execute_result"
    }
   ],
   "source": [
    "x_train.shape"
   ]
  },
  {
   "cell_type": "markdown",
   "metadata": {
    "id": "PVhuRsRRhgYC"
   },
   "source": [
    "데이터를 보고 싶으면 matplotlib를 이용하여 확인할 수 있다."
   ]
  },
  {
   "cell_type": "code",
   "execution_count": 12,
   "metadata": {
    "id": "Zh46qAtOhgYD"
   },
   "outputs": [],
   "source": [
    "import matplotlib.pyplot as plt"
   ]
  },
  {
   "cell_type": "code",
   "execution_count": 13,
   "metadata": {
    "id": "UtJ-Sd0ThgYD",
    "outputId": "db459cd9-8bbb-46d2-d4e1-792b1df66338"
   },
   "outputs": [
    {
     "data": {
      "image/png": "[encoded data removed]",
      "text/plain": [
       "<Figure size 432x288 with 2 Axes>"
      ]
     },
     "metadata": {
      "needs_background": "light"
     },
     "output_type": "display_data"
    }
   ],
   "source": [
    "#Let's look at the sample data\n",
    "plt.figure()\n",
    "plt.imshow(x_train[0])\n",
    "plt.colorbar()\n",
    "plt.grid(False)\n",
    "plt.show()"
   ]
  },
  {
   "cell_type": "markdown",
   "metadata": {
    "id": "vm_1lTVYhgYE"
   },
   "source": [
    "## Model 구성하기\n",
    "이제 아주 간단한 Model을 구성해 볼 것이다.\n",
    "Tensorflow2에서 제공하는 keras의 sequential method를 사용하면 원하는 Layer를 차곡차곡 쌓아가면서 모델을 구성할 수 있다. <br>\n",
    "아래 그림과 같은 구조로 모델을 구성할 것이다.\n",
    "![image.png](attachment:image.png)\n",
    "- 28x28 image를 Input으로 받아서 1차원으로 쭉 편 다음,<br> \n",
    "- 128개 Node를 가지는 Hidden layer를 연결하고 Relu activation을 한 번 거친 후에, <br>\n",
    "- 20%를 랜덤으로 누락시키는 Drop Out를 수행한 뒤 <br>\n",
    "- 10개의 Node를 갖는 Output으로 연결하고 Softmax를 수행한다.<br>\n",
    "\n",
    "위와 같은 작업을 수행하기 위해 `tf.keras.layers`를 활용 가능하다. 그중에서도 MLP 구성을 위해서는 아래의 Layer들을 활용할 수 있다.\n",
    "- `Flatten(input_shape=(x,y,z))`: (x,y,z) 형태의 Input을 받아서 1차원 배열로 바꾸어주는 Layer이다.\n",
    "- `Dense(N, activation=activation)`: 이전 레이어를 Input으로 하고 N만큼을 Output Node로 갖는 Neural Network를 구성한다. activation을 넣어주면 계산된 값에 Activation을 적용한다.(예: ReLU, Softmax 등)\n",
    "- `Dropout(p)`: 이전 레이어의 Node의 값을 p만큼의 비율로 0으로 만들어 준다."
   ]
  },
  {
   "cell_type": "code",
   "execution_count": 27,
   "metadata": {
    "id": "HQL6VGeihgYF"
   },
   "outputs": [],
   "source": [
    "model = tf.keras.models.Sequential([\n",
    "    ###### 아래 빈칸. 실습하면서 완성 #####\n",
    "    tf.keras.layers.Flatten(input_shape=(28,28)),\n",
    "    tf.keras.layers.Dense(128, activation='relu'),\n",
    "    tf.keras.layers.Dropout(0.2),\n",
    "    tf.keras.layers.Dense(10, activation='softmax'),\n",
    "    ###### 빈칸 끝 ##### \n",
    "\n",
    "])"
   ]
  },
  {
   "cell_type": "markdown",
   "metadata": {
    "id": "KFQGPGvFhgYF"
   },
   "source": [
    "다음으로 Loss, Optimizer, Metrics등을 정의하여 모델을 컴파일해준다.<br>\n",
    "- 10개 중 하나로 Classification하는 문제이므로 `SparseCategoricalCrossentropy`를 Loss로 사용해준다. Loss는 `tf.keras.losses` 라이브러리를 사용할 수 있다.\n",
    "- Optimizer는 가장 널리 쓰이는 방법론 중 하나인 Adam을 사용하자. Optimizer는 `tf.keras.optimizers` 라이브러리를 사용할 수 있다."
   ]
  },
  {
   "cell_type": "code",
   "execution_count": 28,
   "metadata": {
    "id": "6Zkp4faphgYF"
   },
   "outputs": [],
   "source": [
    "###### 아래 빈칸. 실습하면서 완성 #####\n",
    "#CategoricalCrossentropy : input 이 1-hot vector일 때 사용하는 loss\n",
    "loss_fn = tf.keras.losses.SparseCategoricalCrossentropy()  #label 이 integer(index) 형태일 때 이용\n",
    "optim_fn = tf.keras.optimizers.Adam(learning_rate = 0.001)\n",
    "###### 빈칸 끝 #####"
   ]
  },
  {
   "cell_type": "code",
   "execution_count": 29,
   "metadata": {
    "id": "TE6rC0nnhgYG"
   },
   "outputs": [],
   "source": [
    "model.compile(optimizer=optim_fn,\n",
    "              loss=loss_fn,\n",
    "              metrics=['accuracy'])#결과값이 어떤 형식으로 나오길 원하는지를 metric에"
   ]
  },
  {
   "cell_type": "code",
   "execution_count": 30,
   "metadata": {
    "id": "01BaB7XghgYG",
    "outputId": "0b83965f-a99d-427b-b59b-c32288aabcb4"
   },
   "outputs": [
    {
     "name": "stdout",
     "output_type": "stream",
     "text": [
      "Model: \"sequential_1\"\n",
      "_________________________________________________________________\n",
      "Layer (type)                 Output Shape              Param #   \n",
      "=================================================================\n",
      "flatten_1 (Flatten)          (None, 784)               0         \n",
      "_________________________________________________________________\n",
      "dense_2 (Dense)              (None, 128)               100480    \n",
      "_________________________________________________________________\n",
      "dropout_1 (Dropout)          (None, 128)               0         \n",
      "_________________________________________________________________\n",
      "dense_3 (Dense)              (None, 10)                1290      \n",
      "=================================================================\n",
      "Total params: 101,770\n",
      "Trainable params: 101,770\n",
      "Non-trainable params: 0\n",
      "_________________________________________________________________\n"
     ]
    }
   ],
   "source": [
    "model.summary()"
   ]
  },
  {
   "cell_type": "markdown",
   "metadata": {
    "id": "3uc0XEinhgYG"
   },
   "source": [
    "## 모델 트레이닝\n",
    "model.fit 명령어를 이용하면 우리가 구성한 모델을 트레이닝할 수 있다."
   ]
  },
  {
   "cell_type": "code",
   "execution_count": 31,
   "metadata": {
    "id": "jO7WMBzlhgYG",
    "outputId": "e7b05644-bc86-4fe9-8e98-5152777255d1"
   },
   "outputs": [
    {
     "name": "stdout",
     "output_type": "stream",
     "text": [
      "Epoch 1/10\n",
      "1500/1500 [==============================] - 3s 1ms/step - loss: 2.8709 - accuracy: 0.6058 - val_loss: 0.7780 - val_accuracy: 0.7268\n",
      "Epoch 2/10\n",
      "1500/1500 [==============================] - 2s 1ms/step - loss: 0.8839 - accuracy: 0.6835 - val_loss: 0.7023 - val_accuracy: 0.7558\n",
      "Epoch 3/10\n",
      "1500/1500 [==============================] - 2s 1ms/step - loss: 0.8068 - accuracy: 0.7078 - val_loss: 0.6091 - val_accuracy: 0.7822\n",
      "Epoch 4/10\n",
      "1500/1500 [==============================] - 2s 1ms/step - loss: 0.7656 - accuracy: 0.7261 - val_loss: 0.5673 - val_accuracy: 0.8130\n",
      "Epoch 5/10\n",
      "1500/1500 [==============================] - 2s 1ms/step - loss: 0.7363 - accuracy: 0.7379 - val_loss: 0.5722 - val_accuracy: 0.7904\n",
      "Epoch 6/10\n",
      "1500/1500 [==============================] - 2s 1ms/step - loss: 0.7281 - accuracy: 0.7376 - val_loss: 0.6614 - val_accuracy: 0.7563\n",
      "Epoch 7/10\n",
      "1500/1500 [==============================] - 2s 1ms/step - loss: 0.7063 - accuracy: 0.7488 - val_loss: 0.5397 - val_accuracy: 0.8090\n",
      "Epoch 8/10\n",
      "1500/1500 [==============================] - 2s 1ms/step - loss: 0.7156 - accuracy: 0.7491 - val_loss: 0.6358 - val_accuracy: 0.7465\n",
      "Epoch 9/10\n",
      "1500/1500 [==============================] - 2s 1ms/step - loss: 0.7904 - accuracy: 0.7011 - val_loss: 0.6558 - val_accuracy: 0.7417\n",
      "Epoch 10/10\n",
      "1500/1500 [==============================] - 3s 2ms/step - loss: 0.7557 - accuracy: 0.7136 - val_loss: 0.6523 - val_accuracy: 0.7629\n"
     ]
    }
   ],
   "source": [
    "hist = model.fit(x_train, y_train, epochs=10, validation_data=(x_valid, y_valid)) #hist 는 dictionary로 저장됨"
   ]
  },
  {
   "cell_type": "markdown",
   "metadata": {
    "id": "zPCtkYfKhgYH"
   },
   "source": [
    "## 트레이닝 결과 확인\n",
    "트레이닝이 진행됨에 따라 Loss는 줄어들고 Accuracy는 올라가야 할 것이고,<br>\n",
    "이런 트렌드가 관찰되지 않는다면 무언가 잘못되었다고 볼 수 있다. <br>\n",
    "그래프를 그려서 실제로 이런 트렌드가 관찰되는지 확인해 보자."
   ]
  },
  {
   "cell_type": "code",
   "execution_count": 32,
   "metadata": {
    "id": "Lrpf4SHWhgYH",
    "outputId": "acf55b16-86ed-47c8-acde-b5964de7c507"
   },
   "outputs": [
    {
     "data": {
      "image/png": "[encoded data removed]",
      "text/plain": [
       "<Figure size 576x576 with 2 Axes>"
      ]
     },
     "metadata": {
      "needs_background": "light"
     },
     "output_type": "display_data"
    }
   ],
   "source": [
    "# Get Training accuray & Validation accuracy from history\n",
    "acc = hist.history['accuracy']\n",
    "val_acc = hist.history['val_accuracy']\n",
    "\n",
    "# Get Training loss & Validation loss from history\n",
    "loss = hist.history['loss']\n",
    "val_loss = hist.history['val_loss']\n",
    "\n",
    "# Let's visualize accuracy\n",
    "plt.figure(figsize=(8, 8))\n",
    "plt.subplot(2, 1, 1)\n",
    "plt.plot(acc, label='Training Accuracy')\n",
    "plt.plot(val_acc, label='Validation Accuracy')\n",
    "plt.legend(loc='lower right')\n",
    "plt.ylabel('Accuracy')\n",
    "plt.ylim([min(plt.ylim()),1])\n",
    "plt.title('Training and Validation Accuracy')\n",
    "\n",
    "# Let's visualize loss\n",
    "plt.subplot(2, 1, 2)\n",
    "plt.plot(loss, label='Training Loss')\n",
    "plt.plot(val_loss, label='Validation Loss')\n",
    "plt.legend(loc='upper right')\n",
    "plt.ylabel('Cross Entropy')\n",
    "plt.ylim([0,3.0])\n",
    "plt.title('Training and Validation Loss')\n",
    "plt.xlabel('epoch')\n",
    "plt.show()"
   ]
  },
  {
   "cell_type": "markdown",
   "metadata": {
    "id": "6wEhjRpOhgYH"
   },
   "source": [
    "`model.evaluate` 함수를 통해 Test set에 대해서도 Accuracy가 잘 나오는지 확인해 보자."
   ]
  },
  {
   "cell_type": "code",
   "execution_count": 33,
   "metadata": {
    "id": "gVSHaPF5hgYH",
    "outputId": "92da4efb-bec0-4ede-d0d4-bfb062f932e0"
   },
   "outputs": [
    {
     "name": "stdout",
     "output_type": "stream",
     "text": [
      "313/313 - 0s - loss: 0.6627 - accuracy: 0.7562\n"
     ]
    },
    {
     "data": {
      "text/plain": [
       "[0.662675142288208, 0.7562000155448914]"
      ]
     },
     "execution_count": 33,
     "metadata": {},
     "output_type": "execute_result"
    }
   ],
   "source": [
    "model.evaluate(x_test, y_test, verbose=2)"
   ]
  },
  {
   "cell_type": "code",
   "execution_count": 34,
   "metadata": {
    "id": "TyIa6X9whgYH"
   },
   "outputs": [],
   "source": [
    "predictions = model.predict(x_test)"
   ]
  },
  {
   "cell_type": "code",
   "execution_count": 35,
   "metadata": {},
   "outputs": [
    {
     "data": {
      "text/plain": [
       "array([[2.4410189e-27, 7.3323409e-29, 0.0000000e+00, ..., 7.2638430e-02,\n",
       "        1.6247440e-10, 8.9470994e-01],\n",
       "       [9.0567730e-03, 6.8582348e-03, 5.8828151e-01, ..., 2.5508037e-28,\n",
       "        3.0311057e-03, 1.4287970e-30],\n",
       "       [5.9897565e-22, 1.0000000e+00, 0.0000000e+00, ..., 0.0000000e+00,\n",
       "        0.0000000e+00, 0.0000000e+00],\n",
       "       ...,\n",
       "       [3.6365011e-25, 2.1875456e-29, 0.0000000e+00, ..., 5.5349737e-14,\n",
       "        1.0000000e+00, 5.5897908e-33],\n",
       "       [2.7683806e-12, 1.0000000e+00, 0.0000000e+00, ..., 0.0000000e+00,\n",
       "        6.6548254e-33, 0.0000000e+00],\n",
       "       [1.9712223e-08, 9.1205343e-10, 2.2268571e-18, ..., 5.6294698e-02,\n",
       "        1.6595621e-08, 3.5372018e-03]], dtype=float32)"
      ]
     },
     "execution_count": 35,
     "metadata": {},
     "output_type": "execute_result"
    }
   ],
   "source": [
    "predictions"
   ]
  },
  {
   "cell_type": "markdown",
   "metadata": {
    "id": "HhWXs7LLhgYI"
   },
   "source": [
    "Test set에서 하나의 샘플을 추출하여 정답과 예측 결과를 비교해 볼 수도 있다."
   ]
  },
  {
   "cell_type": "code",
   "execution_count": 36,
   "metadata": {
    "id": "hSV9SN6xhgYI"
   },
   "outputs": [],
   "source": [
    "import numpy as np\n",
    "#Plot image with label\n",
    "def plot_image(i, predictions_array, true_label, img):\n",
    "    predictions_array, true_label, img = predictions_array[i], true_label[i], img[i]\n",
    "    plt.grid(False)\n",
    "    plt.xticks([])\n",
    "    plt.yticks([])\n",
    "\n",
    "    plt.imshow(img, cmap=plt.cm.binary)\n",
    "    predicted_label = np.argmax(predictions_array)\n",
    "    if predicted_label == true_label:\n",
    "        color = 'blue'\n",
    "    else:\n",
    "        color = 'red'\n",
    "\n",
    "    plt.xlabel(\"{} {:2.0f}% ({})\".format(class_names[predicted_label],\n",
    "                                100*np.max(predictions_array),\n",
    "                                class_names[true_label]),\n",
    "                                color=color)\n",
    "#Plot \n",
    "def plot_value_array(i, predictions_array, true_label):\n",
    "    predictions_array, true_label = predictions_array[i], true_label[i]\n",
    "    plt.grid(False)\n",
    "    plt.xticks([])\n",
    "    plt.yticks([])\n",
    "    thisplot = plt.bar(range(10), predictions_array, color='gray')\n",
    "    plt.ylim([0,1])\n",
    "    predicted_label = np.argmax(predictions_array)\n",
    "    _ = plt.xticks(range(10), class_names, rotation=45)\n",
    "\n",
    "    thisplot[predicted_label].set_color('red')\n",
    "    thisplot[true_label].set_color('blue')"
   ]
  },
  {
   "cell_type": "code",
   "execution_count": 39,
   "metadata": {
    "id": "KJf4eAu7hgYI",
    "outputId": "80407648-5199-4b50-dc42-38a7d36e4e6e",
    "scrolled": true
   },
   "outputs": [
    {
     "data": {
      "image/png": "[encoded data removed]",
      "text/plain": [
       "<Figure size 432x216 with 2 Axes>"
      ]
     },
     "metadata": {
      "needs_background": "light"
     },
     "output_type": "display_data"
    }
   ],
   "source": [
    "i = 1\n",
    "plt.figure(figsize=(6,3))\n",
    "plt.subplot(1,2,1)\n",
    "plot_image(i, predictions, y_test, x_test)\n",
    "plt.subplot(1,2,2)\n",
    "plot_value_array(i, predictions, y_test)\n",
    "plt.show()"
   ]
  },
  {
   "cell_type": "markdown",
   "metadata": {
    "id": "1R-g2fHuhgYJ"
   },
   "source": [
    "# 과제: CIFAR10 데이터셋을 이용하여 MLP 모델 만들고 훈련시키기\n",
    "다른 데이터셋을 이용하여 스스로 MLP를 구성하고 훈련해 보자. <br>\n",
    "10개의 서로 다른 class를 가진 CIFAR10 데이터셋을 이용하여 비슷하게 MLP 모델을 만들고 훈련하여 제출하시오. <br>\n",
    "모델은 최소한 3개 이상의 Dense layer를 사용하여 구성하여야 하고 0.4 이상의 Validation accuracy를 달성할 때까지 훈련을 진행하시오. 또한 Regularizer를 한번 이상 활용하시오.(Dropout 제외) <br>\n",
    "*주의*: Fashion MNIST와 CIFAR10은 Input의 shape가 다르므로 이를 잘 고려해야 한다."
   ]
  },
  {
   "cell_type": "markdown",
   "metadata": {
    "id": "fYG-JyHNhgYJ"
   },
   "source": [
    "HW1_학번_이름.ipynb 형태로 저장하여 Jupyter Notebook을 그대로 제출! <br>\n",
    "(예: HW1_2020_12345_keondo.ipynb) <br>\n",
    "훈련을 진행하고 Output을 지우지 말고 제출할 것!"
   ]
  },
  {
   "cell_type": "code",
   "execution_count": 2,
   "metadata": {},
   "outputs": [],
   "source": [
    "import tensorflow as tf"
   ]
  },
  {
   "cell_type": "code",
   "execution_count": 3,
   "metadata": {
    "id": "P7Kthqz-hgYJ"
   },
   "outputs": [],
   "source": [
    "cifar10 = tf.keras.datasets.cifar10\n",
    "\n",
    "#Load data\n",
    "(x_train, y_train), (x_test, y_test) = cifar10.load_data()\n",
    "\n",
    "#Split train set into train/valid set\n",
    "from sklearn import model_selection\n",
    "x_train, x_valid, y_train, y_valid = model_selection.train_test_split(x_train, y_train,test_size=0.2)\n",
    "\n",
    "#Rescale data to be in the range of [0,1]\n",
    "x_train, x_valid, x_test = x_train / 255.0, x_valid / 255.0, x_test / 255.0\n",
    "class_names = ['airplane', 'automobile', 'bird', 'cat', 'deer',\n",
    "               'dog', 'frog', 'horse', 'ship', 'truck']"
   ]
  },
  {
   "cell_type": "code",
   "execution_count": 5,
   "metadata": {
    "id": "Um32gK5thgYJ",
    "outputId": "a96f57d2-c6a7-41a1-8575-65c92a886843"
   },
   "outputs": [
    {
     "data": {
      "image/png": "[encoded data removed]",
      "text/plain": [
       "<Figure size 432x288 with 2 Axes>"
      ]
     },
     "metadata": {
      "needs_background": "light"
     },
     "output_type": "display_data"
    }
   ],
   "source": [
    "import matplotlib.pyplot as plt\n",
    "#Let's look at the sample data\n",
    "plt.figure()\n",
    "plt.imshow(x_train[0])\n",
    "plt.colorbar()\n",
    "plt.grid(False)\n",
    "plt.show()"
   ]
  },
  {
   "cell_type": "markdown",
   "metadata": {
    "id": "cvCh910-hgYK"
   },
   "source": [
    "---\n",
    "여기부터 수강생의 코드를 추가하시오"
   ]
  },
  {
   "cell_type": "code",
   "execution_count": 7,
   "metadata": {},
   "outputs": [
    {
     "data": {
      "text/plain": [
       "3072"
      ]
     },
     "execution_count": 7,
     "metadata": {},
     "output_type": "execute_result"
    }
   ],
   "source": [
    "x_train.shape\n",
    "32*32*3"
   ]
  },
  {
   "cell_type": "code",
   "execution_count": 92,
   "metadata": {
    "id": "JZvo0bP5hgYL"
   },
   "outputs": [],
   "source": [
    "from tensorflow.keras.regularizers import l1,l2\n",
    "model = tf.keras.models.Sequential([\n",
    "    ###### 아래 빈칸. 실습하면서 완성 #####\n",
    "    tf.keras.layers.Flatten(input_shape=(32,32,3)),\n",
    "    tf.keras.layers.Dense(256, activation='relu', kernel_regularizer=l2(0.01), bias_regularizer=l2(0.01)),\n",
    "    tf.keras.layers.Dense(256, activation='relu', kernel_regularizer=l2(0.01), bias_regularizer=l2(0.01)),\n",
    "    #tf.keras.layers.Dropout(0.2),\n",
    "    tf.keras.layers.Dense(256, activation='relu'),\n",
    "    tf.keras.layers.Dropout(0.2),\n",
    "    tf.keras.layers.Dense(10, activation='softmax'),\n",
    "    ###### 빈칸 끝 ##### \n",
    "\n",
    "])"
   ]
  },
  {
   "cell_type": "code",
   "execution_count": 93,
   "metadata": {},
   "outputs": [],
   "source": [
    "###### 아래 빈칸. 실습하면서 완성 #####\n",
    "#CategoricalCrossentropy : input 이 1-hot vector일 때 사용하는 loss\n",
    "loss_fn = tf.keras.losses.SparseCategoricalCrossentropy()  #label 이 integer(index) 형태일 때 이용\n",
    "optim_fn = tf.keras.optimizers.Adam()\n",
    "###### 빈칸 끝 #####"
   ]
  },
  {
   "cell_type": "code",
   "execution_count": 94,
   "metadata": {},
   "outputs": [],
   "source": [
    "model.compile(optimizer=optim_fn,\n",
    "              loss=loss_fn,\n",
    "              metrics=['accuracy'])#결과값이 어떤 형식으로 나오길 원하는지를 metric에"
   ]
  },
  {
   "cell_type": "code",
   "execution_count": 95,
   "metadata": {},
   "outputs": [
    {
     "name": "stdout",
     "output_type": "stream",
     "text": [
      "Model: \"sequential_12\"\n",
      "_________________________________________________________________\n",
      "Layer (type)                 Output Shape              Param #   \n",
      "=================================================================\n",
      "flatten_15 (Flatten)         (None, 3072)              0         \n",
      "_________________________________________________________________\n",
      "dense_56 (Dense)             (None, 256)               786688    \n",
      "_________________________________________________________________\n",
      "dense_57 (Dense)             (None, 256)               65792     \n",
      "_________________________________________________________________\n",
      "dense_58 (Dense)             (None, 256)               65792     \n",
      "_________________________________________________________________\n",
      "dropout_28 (Dropout)         (None, 256)               0         \n",
      "_________________________________________________________________\n",
      "dense_59 (Dense)             (None, 10)                2570      \n",
      "=================================================================\n",
      "Total params: 920,842\n",
      "Trainable params: 920,842\n",
      "Non-trainable params: 0\n",
      "_________________________________________________________________\n"
     ]
    }
   ],
   "source": [
    "model.summary()"
   ]
  },
  {
   "cell_type": "code",
   "execution_count": 96,
   "metadata": {},
   "outputs": [],
   "source": [
    "import os\n",
    "#checkpoint가 저장될 경로를 지정해준다.\n",
    "checkpoint_dir = './training_checkpoints_tfAPI'\n",
    "checkpoint_prefix = os.path.join(checkpoint_dir, \"ckpt_{epoch}\")\n",
    "\n",
    "#학습률을 점점 줄이기 위한 함수\n",
    "def decay(epoch):\n",
    "    if epoch < 3:\n",
    "        return 1e-3\n",
    "    elif epoch >=3 and epoch < 7:\n",
    "        return 1e-4\n",
    "    else:\n",
    "        return 1e-5\n",
    "    \n",
    "#Custom Callback : Learning rate를 각 epoch 마다 print하는 callback함수 설정\n",
    "class PrintLR(tf.keras.callbacks.Callback):\n",
    "    def on_epoch_end(self, epoch, logs=None): \n",
    "        print(\"\\n Epoch {}'s Learning rate is {}\".format(epoch + 1, model.optimizer.lr.numpy()))\n",
    "\n",
    "callbacks = [\n",
    "    #tf.keras.callbacks.TensorBoard(log_dir = './logs'),\n",
    "    #tf.keras.callbacks.EarlyStopping(monitor='loss', patience=3), #loss를 관찰하다 training을 중간에 그만두게 할 수 있다.\n",
    "    #tf.keras.callbacks.ModelCheckpoint(filepath=checkpoint_prefix, save_weights_only = True),\n",
    "    tf.keras.callbacks.LearningRateScheduler(decay),\n",
    "    PrintLR()\n",
    "]"
   ]
  },
  {
   "cell_type": "code",
   "execution_count": 97,
   "metadata": {},
   "outputs": [
    {
     "name": "stdout",
     "output_type": "stream",
     "text": [
      "Epoch 1/10\n",
      "1250/1250 [==============================] - 16s 13ms/step - loss: 2.3853 - accuracy: 0.2824 - val_loss: 2.0341 - val_accuracy: 0.3172\n",
      "\n",
      " Epoch 1's Learning rate is 0.0010000000474974513\n",
      "Epoch 2/10\n",
      "1250/1250 [==============================] - 15s 12ms/step - loss: 2.0126 - accuracy: 0.3325 - val_loss: 2.0144 - val_accuracy: 0.3217\n",
      "\n",
      " Epoch 2's Learning rate is 0.0010000000474974513\n",
      "Epoch 3/10\n",
      "1250/1250 [==============================] - 15s 12ms/step - loss: 1.9752 - accuracy: 0.3431 - val_loss: 1.9578 - val_accuracy: 0.3581\n",
      "\n",
      " Epoch 3's Learning rate is 0.0010000000474974513\n",
      "Epoch 4/10\n",
      "1250/1250 [==============================] - 15s 12ms/step - loss: 1.8046 - accuracy: 0.3914 - val_loss: 1.8007 - val_accuracy: 0.3920\n",
      "\n",
      " Epoch 4's Learning rate is 9.999999747378752e-05\n",
      "Epoch 5/10\n",
      "1250/1250 [==============================] - 16s 13ms/step - loss: 1.7565 - accuracy: 0.3999 - val_loss: 1.7750 - val_accuracy: 0.3960\n",
      "\n",
      " Epoch 5's Learning rate is 9.999999747378752e-05\n",
      "Epoch 6/10\n",
      "1250/1250 [==============================] - 15s 12ms/step - loss: 1.7331 - accuracy: 0.4025 - val_loss: 1.7493 - val_accuracy: 0.4037\n",
      "\n",
      " Epoch 6's Learning rate is 9.999999747378752e-05\n",
      "Epoch 7/10\n",
      "1250/1250 [==============================] - 15s 12ms/step - loss: 1.7174 - accuracy: 0.4097 - val_loss: 1.7380 - val_accuracy: 0.4042\n",
      "\n",
      " Epoch 7's Learning rate is 9.999999747378752e-05\n",
      "Epoch 8/10\n",
      "1250/1250 [==============================] - 15s 12ms/step - loss: 1.6914 - accuracy: 0.4208 - val_loss: 1.7300 - val_accuracy: 0.4097\n",
      "\n",
      " Epoch 8's Learning rate is 9.999999747378752e-06\n",
      "Epoch 9/10\n",
      "1250/1250 [==============================] - 15s 12ms/step - loss: 1.6882 - accuracy: 0.4195 - val_loss: 1.7275 - val_accuracy: 0.4073\n",
      "\n",
      " Epoch 9's Learning rate is 9.999999747378752e-06\n",
      "Epoch 10/10\n",
      "1250/1250 [==============================] - 16s 13ms/step - loss: 1.6869 - accuracy: 0.4192 - val_loss: 1.7253 - val_accuracy: 0.4104\n",
      "\n",
      " Epoch 10's Learning rate is 9.999999747378752e-06\n"
     ]
    }
   ],
   "source": [
    "hist = model.fit(x_train, y_train, epochs=10, validation_data=(x_valid, y_valid),callbacks=callbacks) #hist 는 dictionary로 저장됨"
   ]
  },
  {
   "cell_type": "code",
   "execution_count": 62,
   "metadata": {},
   "outputs": [
    {
     "data": {
      "text/plain": [
       "(40000, 32, 32, 3)"
      ]
     },
     "execution_count": 62,
     "metadata": {},
     "output_type": "execute_result"
    }
   ],
   "source": [
    "x_train.shape"
   ]
  },
  {
   "cell_type": "code",
   "execution_count": null,
   "metadata": {},
   "outputs": [],
   "source": []
  }
 ],
 "metadata": {
  "colab": {
   "name": "Practice_MLP_dist.ipynb",
   "provenance": []
  },
  "kernelspec": {
   "display_name": "Python 3",
   "language": "python",
   "name": "python3"
  },
  "language_info": {
   "codemirror_mode": {
    "name": "ipython",
    "version": 3
   },
   "file_extension": ".py",
   "mimetype": "text/x-python",
   "name": "python",
   "nbconvert_exporter": "python",
   "pygments_lexer": "ipython3",
   "version": "3.9.1"
  }
 },
 "nbformat": 4,
 "nbformat_minor": 1
}
