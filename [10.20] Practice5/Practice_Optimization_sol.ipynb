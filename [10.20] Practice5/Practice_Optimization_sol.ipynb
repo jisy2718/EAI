{
 "cells": [
  {
   "cell_type": "markdown",
   "metadata": {},
   "source": [
    "# TensorFlow Lite model optimization\n",
    "\n",
    "TensorFlow Lite에서는 edge device에서 모델의 inference를 효율적으로 하기 위한 방법인 quantization과 pruning을 이용할 수 있는 toolkit을 제공하고 있다. 이번 실습에서는 해당 toolkit을 이용해 볼 것이다.\n",
    "\n",
    "더 자세한 내용은 document를 참고\n",
    "- https://www.tensorflow.org/model_optimization/guide\n",
    "- https://www.tensorflow.org/lite/performance/model_optimization\n",
    "- TFLite https://www.tensorflow.org/lite/guide"
   ]
  },
  {
   "cell_type": "markdown",
   "metadata": {},
   "source": [
    "## 0. What is TFLite?\n",
    "\n",
    "TensorFlow Lite는 TensorFlow로 학습된 모델을 tflite이라는 포맷으로 바꿔 줌으로써 모바일 장치, 임베디드 장치 등의 가벼운 장치에서 모델을 inference 할 수 있게 해주는 플랫폼이다.\n",
    "\n",
    "<img src=\"https://user-images.githubusercontent.com/37704174/115159215-fccd0800-a0cc-11eb-817b-645f96c76966.png\" width=\"400\" height=\"400\"/>  \n",
    "\n",
    "\n",
    "TensorFlow는 모델을 파일로 저장할 때는 [Protocol Buffer](https://developers.google.com/protocol-buffers)라는 포맷으로 저장을 하고, TensorFlow Lite의 모델은 [FlatBuffer](https://google.github.io/flatbuffers/)라는 포맷으로 저장을 한다. 두 serialization의 가장 큰 차이점은 FlatBuffer는 추가적인 메모리 할당 없이 deserialize를 할 수 있기 때문에 빠르게 파일에 있는 데이터에 접근할 수 있다는 점이다.\n",
    "\n",
    "TFLite 모델로 변환을 할 때, quantization과 pruning 등의 optimization을 할 수 있는데, 이 때의 장점은 다음과 같다.\n",
    "- <b>Size reduction</b>\n",
    "  - smaller storage size, smaller download size, less memory usage\n",
    "  \n",
    "  \n",
    "- <b>Latency reduction</b>\n",
    "  - computation을 줄여 줌으로써 inference에 걸리는 시간 감소\n",
    "  \n",
    "  \n",
    "- <b>Accelerator compatibility</b>\n",
    "  - Edge TPU와 같이 특정 hardware는 각각의 quantization 요구 사항을 만족해야 함 (e.g. Coral Dev Board를 사용하려면 quantization aware training이나 full integer post-training quantization을 필요로 함)"
   ]
  },
  {
   "cell_type": "markdown",
   "metadata": {},
   "source": [
    "Tensorflow 최신 버전 설치"
   ]
  },
  {
   "cell_type": "code",
   "execution_count": null,
   "metadata": {},
   "outputs": [],
   "source": [
    "!pip uninstall -y tensorflow\n",
    "!pip install tf-nightly"
   ]
  },
  {
   "cell_type": "markdown",
   "metadata": {},
   "source": [
    "kernel restart"
   ]
  },
  {
   "cell_type": "code",
   "execution_count": 2,
   "metadata": {},
   "outputs": [],
   "source": [
    "import os\n",
    "import numpy as np\n",
    "import zipfile\n",
    "import tempfile\n",
    "import tensorflow as tf\n",
    "assert float(tf.__version__[:3]) >= 2.3\n",
    "\n",
    "os.environ['TF_CPP_MIN_LOG_LEVEL'] = '3'\n",
    "tf.compat.v1.logging.set_verbosity(tf.compat.v1.logging.ERROR)"
   ]
  },
  {
   "cell_type": "code",
   "execution_count": 3,
   "metadata": {},
   "outputs": [
    {
     "data": {
      "text/plain": [
       "'2.6.0'"
      ]
     },
     "execution_count": 3,
     "metadata": {},
     "output_type": "execute_result"
    }
   ],
   "source": [
    "tf.__version__"
   ]
  },
  {
   "cell_type": "markdown",
   "metadata": {},
   "source": [
    "## Quantization\n",
    "### 1. [Post-training quantization](https://blog.tensorflow.org/2019/06/tensorflow-integer-quantization.html)\n",
    "\n",
    "<b>Post-training quantization</b>은 학습을 한 다음에 quantization을 하는 방법이다. Quantization aware training보다는 accuracy가 좀 떨어질 수 있지만, 학습된 모델을 가져와서 쉽게 쓸 수 있다. Tensorflow에서는 다음과 같은 post-quantization 기법들을 제공하고 있다.\n",
    "\n",
    "<img src=\"https://user-images.githubusercontent.com/37704174/114367164-2232b100-9bb7-11eb-81e7-b9b8dec09de5.png\" width=\"700\" height=\"700\"/>  \n",
    "- dynamic range quantization: weight은 ***8 bit integer***로 저장하고 inference 시에는 ***8 bit float***로 바뀌고, activation은 range에 따라서 ***(dynamic) 8 bit float***으로 저장\n",
    "\n",
    "\n",
    "나중에 Edge TPU가 있는 Coral board를 사용할 것이기 때문에 학습된 모델을 작동하는데 필요한 post-training integer quantization을 다뤄 볼 것이다."
   ]
  },
  {
   "cell_type": "markdown",
   "metadata": {},
   "source": [
    "### 1-1. 먼저 quantization을 할 간단한 모델을 학습한다."
   ]
  },
  {
   "cell_type": "code",
   "execution_count": 4,
   "metadata": {
    "scrolled": true
   },
   "outputs": [
    {
     "name": "stdout",
     "output_type": "stream",
     "text": [
      "Epoch 1/4\n",
      "1875/1875 [==============================] - 7s 3ms/step - loss: 0.4717 - accuracy: 0.8311 - val_loss: 0.3753 - val_accuracy: 0.8644\n",
      "Epoch 2/4\n",
      "1875/1875 [==============================] - 6s 3ms/step - loss: 0.3262 - accuracy: 0.8855 - val_loss: 0.3209 - val_accuracy: 0.8829\n",
      "Epoch 3/4\n",
      "1875/1875 [==============================] - 5s 3ms/step - loss: 0.2883 - accuracy: 0.8975 - val_loss: 0.3139 - val_accuracy: 0.8857\n",
      "Epoch 4/4\n",
      "1875/1875 [==============================] - 5s 3ms/step - loss: 0.2655 - accuracy: 0.9045 - val_loss: 0.3051 - val_accuracy: 0.8908\n"
     ]
    },
    {
     "data": {
      "text/plain": [
       "<keras.callbacks.History at 0x7faf9f582640>"
      ]
     },
     "execution_count": 4,
     "metadata": {},
     "output_type": "execute_result"
    }
   ],
   "source": [
    "# Load MNIST dataset\n",
    "fashion_mnist = tf.keras.datasets.fashion_mnist\n",
    "(train_images, train_labels), (test_images, test_labels) = fashion_mnist.load_data()\n",
    "\n",
    "# Normalize the input image\n",
    "train_images = train_images.astype(np.float32) / 255.0\n",
    "test_images = test_images.astype(np.float32) / 255.0\n",
    "\n",
    "# Define the model architecture\n",
    "model = tf.keras.models.Sequential([\n",
    "    tf.keras.layers.InputLayer(input_shape=(28, 28)),\n",
    "    tf.keras.layers.Reshape(target_shape=(28, 28, 1)),\n",
    "    tf.keras.layers.Conv2D(filters=16, kernel_size=3, padding='same', activation='relu'),\n",
    "    tf.keras.layers.MaxPool2D(pool_size=(2,2), strides=(2,2)),\n",
    "    tf.keras.layers.Conv2D(filters=32, kernel_size=3, padding='same', activation='relu'),\n",
    "    tf.keras.layers.MaxPool2D(pool_size=(2,2), strides=(2,2)),\n",
    "    tf.keras.layers.Flatten(),\n",
    "    tf.keras.layers.Dense(10, activation='softmax')\n",
    "])\n",
    "\n",
    "# Train\n",
    "model.compile(optimizer='adam',\n",
    "              loss=tf.keras.losses.SparseCategoricalCrossentropy(\n",
    "                  from_logits=False),\n",
    "              metrics=['accuracy'])\n",
    "model.fit(\n",
    "  train_images,\n",
    "  train_labels,  \n",
    "  epochs=4,\n",
    "  validation_data=(test_images, test_labels)\n",
    ")"
   ]
  },
  {
   "cell_type": "markdown",
   "metadata": {},
   "source": [
    "### 1-2. 학습된 모델 Tensorflow Lite 모델로 변환"
   ]
  },
  {
   "cell_type": "markdown",
   "metadata": {},
   "source": [
    "학습된 모델을 변환하기 위해서는 [TensorFlow Lite converter](https://www.tensorflow.org/lite/convert)라는 것을 이용해야 합니다.\n",
    "다음과 같이 tflite 모델로 변환할 수 있습니다."
   ]
  },
  {
   "cell_type": "code",
   "execution_count": 9,
   "metadata": {},
   "outputs": [],
   "source": [
    "converter = tf.lite.TFLiteConverter.from_keras_model(model)\n",
    "\n",
    "tflite_model = converter.convert()"
   ]
  },
  {
   "cell_type": "markdown",
   "metadata": {},
   "source": [
    "변환할 때 아무런 옵션을 주지 않았으므로 이 모델은 단순히 full precision 32-bit float tflite 모델입니다."
   ]
  },
  {
   "cell_type": "markdown",
   "metadata": {},
   "source": [
    "### 2. Post-training integer quantization"
   ]
  },
  {
   "cell_type": "markdown",
   "metadata": {},
   "source": [
    "\n",
    "<img src=\"https://user-images.githubusercontent.com/37704174/114906428-f9c7e280-9e54-11eb-9038-9854d5c8d741.png\" width=\"700\" height=\"700\"/>  \n",
    "<img src=\"https://user-images.githubusercontent.com/37704174/114907026-9e4a2480-9e55-11eb-980f-55999688c260.png\" width=\"500\" height=\"500\"/>  \n"
   ]
  },
  {
   "cell_type": "markdown",
   "metadata": {},
   "source": [
    "다음 셀을 실행하면 quantization이 완료 된다."
   ]
  },
  {
   "cell_type": "code",
   "execution_count": 10,
   "metadata": {},
   "outputs": [
    {
     "name": "stderr",
     "output_type": "stream",
     "text": [
      "fully_quantize: 0, inference_type: 6, input_inference_type: 3, output_inference_type: 3\n",
      "WARNING:absl:For model inputs containing unsupported operations which cannot be quantized, the `inference_input_type` attribute will default to the original type.\n"
     ]
    }
   ],
   "source": [
    "def representative_data_gen():\n",
    "    for input_value in tf.data.Dataset.from_tensor_slices(train_images).batch(1).take(100): #인퍼런스할 데이터와 같은 형태의 샘플 데이터\n",
    "                                                                                            #with rmin and rmax, calculate zero and scale\n",
    "        yield [input_value]\n",
    "\n",
    "post_train_converter = tf.lite.TFLiteConverter.from_keras_model(model)\n",
    "\n",
    "post_train_converter.optimizations = [tf.lite.Optimize.DEFAULT]\n",
    "post_train_converter.representative_dataset = representative_data_gen\n",
    "\n",
    "# Ensure that if any ops can't be quantized, the converter throws an error\n",
    "post_train_converter.target_spec.supported_ops = [tf.lite.OpsSet.TFLITE_BUILTINS_INT8] #Int8 only quantization\n",
    "\n",
    "# Set the input and output tensors to uint8 (APIs added in r2.3)\n",
    "post_train_converter.inference_input_type = tf.uint8 # or tf.int8\n",
    "post_train_converter.inference_output_type = tf.uint8 # or tf.int8\n",
    "\n",
    "post_quant_tflite_model = post_train_converter.convert()"
   ]
  },
  {
   "cell_type": "markdown",
   "metadata": {},
   "source": [
    "아래는 Quantized된 모델의 성능 평가를 위한 helper function ```evaluate_model(interpreter)```이다. Input type을 integer로 했으므로, input에 대한 quantization을 먼저 진행하고 변환된 데이터셋으로 inference를 한다."
   ]
  },
  {
   "cell_type": "code",
   "execution_count": 11,
   "metadata": {},
   "outputs": [],
   "source": [
    "def evaluate_model(interpreter):\n",
    "    global test_images\n",
    "    \n",
    "    input_details = interpreter.get_input_details()[0]\n",
    "    input_index = input_details[\"index\"]\n",
    "    output_index = interpreter.get_output_details()[0][\"index\"]\n",
    "\n",
    "    # 테스트 데이터셋 전체에 대해서 예측\n",
    "    prediction_digits = []\n",
    "    for i, test_image in enumerate(test_images):\n",
    "        if (i+1) % 1000 == 0:\n",
    "              print('Evaluated on {n} results so far.'.format(n=i+1))\n",
    "\n",
    "        # Input quantization\n",
    "        if input_details['dtype'] == np.uint8:\n",
    "            input_scale, input_zero_point = input_details[\"quantization\"]\n",
    "            test_image = test_image / input_scale + input_zero_point\n",
    "\n",
    "        # Pre-processing: 배치 차원 추가\n",
    "        test_image = np.expand_dims(test_image, axis=0).astype(input_details[\"dtype\"])\n",
    "        interpreter.set_tensor(input_index, test_image)\n",
    "\n",
    "        # 인퍼런스\n",
    "        interpreter.invoke()\n",
    "\n",
    "        # Post-processing: 배치 차원 삭제 및 prediction_digits에 예측값 추가\n",
    "        output = interpreter.tensor(output_index)\n",
    "        digit = np.argmax(output()[0])\n",
    "        prediction_digits.append(digit)\n",
    "        \n",
    "    # 예측값과 ground truth 레이블 비교를 통해 정확도 계산\n",
    "    prediction_digits = np.array(prediction_digits)\n",
    "    accuracy = (prediction_digits == test_labels).mean()\n",
    "    return accuracy, output"
   ]
  },
  {
   "cell_type": "markdown",
   "metadata": {},
   "source": [
    "tflite 모델로 inference를 하려면 [`Interpreter`](https://www.tensorflow.org/api_docs/python/tf/lite/Interpreter)를 이용한다. `model_content` 대신에 `model_path`를 이용하면 tflite 파일을 불러올 수도 있다.  "
   ]
  },
  {
   "cell_type": "markdown",
   "metadata": {},
   "source": [
    "inference를 하기 위해서는 interpreter 생성 &#8594; `allocate_tensor` &#8594; `set_tensor` &#8594; `invoke` 순으로 실행한다.  "
   ]
  },
  {
   "cell_type": "code",
   "execution_count": 12,
   "metadata": {},
   "outputs": [
    {
     "name": "stdout",
     "output_type": "stream",
     "text": [
      "Evaluated on 1000 results so far.\n",
      "Evaluated on 2000 results so far.\n",
      "Evaluated on 3000 results so far.\n",
      "Evaluated on 4000 results so far.\n",
      "Evaluated on 5000 results so far.\n",
      "Evaluated on 6000 results so far.\n",
      "Evaluated on 7000 results so far.\n",
      "Evaluated on 8000 results so far.\n",
      "Evaluated on 9000 results so far.\n",
      "Evaluated on 10000 results so far.\n",
      "Evaluated on 1000 results so far.\n",
      "Evaluated on 2000 results so far.\n",
      "Evaluated on 3000 results so far.\n",
      "Evaluated on 4000 results so far.\n",
      "Evaluated on 5000 results so far.\n",
      "Evaluated on 6000 results so far.\n",
      "Evaluated on 7000 results so far.\n",
      "Evaluated on 8000 results so far.\n",
      "Evaluated on 9000 results so far.\n",
      "Evaluated on 10000 results so far.\n"
     ]
    }
   ],
   "source": [
    "# 32bit float tflite 모델로 interpreter 만듦\n",
    "interpreter = tf.lite.Interpreter(\n",
    "        model_content=tflite_model\n",
    "        #OR model_path=\"path_to_tflite\"\n",
    ")\n",
    "\n",
    "interpreter.allocate_tensors()\n",
    "tflite_test_accuracy, _ = evaluate_model(interpreter) # Quantization 안된 모델\n",
    "\n",
    "# 8bit integer tflite\n",
    "post_quant_interpreter = tf.lite.Interpreter(model_content=post_quant_tflite_model)\n",
    "post_quant_interpreter.allocate_tensors()\n",
    "post_quant_tflite_test_accuracy, output = evaluate_model(post_quant_interpreter) # Quantization 된 모델"
   ]
  },
  {
   "cell_type": "markdown",
   "metadata": {},
   "source": [
    "Interpreter의 `get_input_details`, `get_output_details` 함수를 통해 input과 output의 type 및 quantization 정보를 알 수 있다."
   ]
  },
  {
   "cell_type": "markdown",
   "metadata": {},
   "source": [
    "### 32 bit full precision model"
   ]
  },
  {
   "cell_type": "code",
   "execution_count": 13,
   "metadata": {
    "scrolled": true
   },
   "outputs": [
    {
     "data": {
      "text/plain": [
       "[{'name': 'input_1',\n",
       "  'index': 0,\n",
       "  'shape': array([ 1, 28, 28], dtype=int32),\n",
       "  'shape_signature': array([-1, 28, 28], dtype=int32),\n",
       "  'dtype': numpy.float32,\n",
       "  'quantization': (0.0, 0),\n",
       "  'quantization_parameters': {'scales': array([], dtype=float32),\n",
       "   'zero_points': array([], dtype=int32),\n",
       "   'quantized_dimension': 0},\n",
       "  'sparsity_parameters': {}}]"
      ]
     },
     "execution_count": 13,
     "metadata": {},
     "output_type": "execute_result"
    }
   ],
   "source": [
    "interpreter.get_input_details()"
   ]
  },
  {
   "cell_type": "code",
   "execution_count": 14,
   "metadata": {},
   "outputs": [
    {
     "data": {
      "text/plain": [
       "[{'name': 'Identity',\n",
       "  'index': 22,\n",
       "  'shape': array([ 1, 10], dtype=int32),\n",
       "  'shape_signature': array([-1, 10], dtype=int32),\n",
       "  'dtype': numpy.float32,\n",
       "  'quantization': (0.0, 0),\n",
       "  'quantization_parameters': {'scales': array([], dtype=float32),\n",
       "   'zero_points': array([], dtype=int32),\n",
       "   'quantized_dimension': 0},\n",
       "  'sparsity_parameters': {}}]"
      ]
     },
     "execution_count": 14,
     "metadata": {},
     "output_type": "execute_result"
    }
   ],
   "source": [
    "interpreter.get_output_details()"
   ]
  },
  {
   "cell_type": "markdown",
   "metadata": {},
   "source": [
    "### Quantized model"
   ]
  },
  {
   "cell_type": "code",
   "execution_count": 15,
   "metadata": {
    "scrolled": true
   },
   "outputs": [
    {
     "data": {
      "text/plain": [
       "[{'name': 'input_1',\n",
       "  'index': 0,\n",
       "  'shape': array([ 1, 28, 28], dtype=int32),\n",
       "  'shape_signature': array([-1, 28, 28], dtype=int32),\n",
       "  'dtype': numpy.uint8,\n",
       "  'quantization': (0.003921568859368563, 0),\n",
       "  'quantization_parameters': {'scales': array([0.00392157], dtype=float32),\n",
       "   'zero_points': array([0], dtype=int32),\n",
       "   'quantized_dimension': 0},\n",
       "  'sparsity_parameters': {}}]"
      ]
     },
     "execution_count": 15,
     "metadata": {},
     "output_type": "execute_result"
    }
   ],
   "source": [
    "post_quant_interpreter.get_input_details()"
   ]
  },
  {
   "cell_type": "code",
   "execution_count": 16,
   "metadata": {
    "scrolled": true
   },
   "outputs": [
    {
     "data": {
      "text/plain": [
       "[{'name': 'Identity',\n",
       "  'index': 24,\n",
       "  'shape': array([ 1, 10], dtype=int32),\n",
       "  'shape_signature': array([-1, 10], dtype=int32),\n",
       "  'dtype': numpy.uint8,\n",
       "  'quantization': (0.00390625, 0),\n",
       "  'quantization_parameters': {'scales': array([0.00390625], dtype=float32),\n",
       "   'zero_points': array([0], dtype=int32),\n",
       "   'quantized_dimension': 0},\n",
       "  'sparsity_parameters': {}}]"
      ]
     },
     "execution_count": 16,
     "metadata": {},
     "output_type": "execute_result"
    }
   ],
   "source": [
    "post_quant_interpreter.get_output_details()"
   ]
  },
  {
   "cell_type": "markdown",
   "metadata": {},
   "source": [
    "Baseline 모델과 quantized 모델의 accuracy를 비교해 보자"
   ]
  },
  {
   "cell_type": "code",
   "execution_count": 17,
   "metadata": {
    "scrolled": true
   },
   "outputs": [
    {
     "name": "stdout",
     "output_type": "stream",
     "text": [
      "TFLite test accuracy: 0.8908\n",
      "Post-training Quant TFLite test_accuracy: 0.8889\n"
     ]
    }
   ],
   "source": [
    "print('TFLite test accuracy:', tflite_test_accuracy)\n",
    "print('Post-training Quant TFLite test_accuracy:', post_quant_tflite_test_accuracy)"
   ]
  },
  {
   "cell_type": "markdown",
   "metadata": {},
   "source": [
    "모델을 파일로 저장해서 실제로 모델 크기가 줄어들었는지 확인해 보자."
   ]
  },
  {
   "cell_type": "code",
   "execution_count": 18,
   "metadata": {},
   "outputs": [
    {
     "name": "stdout",
     "output_type": "stream",
     "text": [
      "Float model in Mb: 0.08170700073242188\n",
      "Quantized model in Mb: 0.02512359619140625\n"
     ]
    }
   ],
   "source": [
    "# create temp file\n",
    "_, tflite_file = tempfile.mkstemp('.tflite')\n",
    "_, post_quant_tflite_file = tempfile.mkstemp('.tflite')\n",
    "\n",
    "\n",
    "with open(tflite_file, 'wb') as f:\n",
    "    f.write(tflite_model)\n",
    "\n",
    "with open(post_quant_tflite_file, 'wb') as f:\n",
    "    f.write(post_quant_tflite_model)\n",
    "\n",
    "\n",
    "print(\"Float model in Mb:\", os.path.getsize(tflite_file) / float(2**20))\n",
    "print(\"Quantized model in Mb:\", os.path.getsize(post_quant_tflite_file) / float(2**20))"
   ]
  },
  {
   "cell_type": "markdown",
   "metadata": {},
   "source": [
    "### 실습 : TensorFlow에서 제공하는 pretrain model 가져와서 post-training quantization 해보기\n",
    "<p><a href=\"https://www.tensorflow.org/api_docs/python/tf/keras/applications/densenet\"><code translate=\"no\" dir=\"ltr\">densenet</code></a> module: Public API for tf.keras.applications.densenet namespace.</p>\n",
    "\n",
    "<p><a href=\"https://www.tensorflow.org/api_docs/python/tf/keras/applications/efficientnet\"><code translate=\"no\" dir=\"ltr\">efficientnet</code></a> module: Public API for tf.keras.applications.efficientnet namespace.</p>\n",
    "\n",
    "<p><a href=\"https://www.tensorflow.org/api_docs/python/tf/keras/applications/imagenet_utils\"><code translate=\"no\" dir=\"ltr\">imagenet_utils</code></a> module: Public API for tf.keras.applications.imagenet_utils namespace.</p>\n",
    "\n",
    "<p><a href=\"https://www.tensorflow.org/api_docs/python/tf/keras/applications/inception_resnet_v2\"><code translate=\"no\" dir=\"ltr\">inception_resnet_v2</code></a> module: Public API for tf.keras.applications.inception_resnet_v2 namespace.</p>\n",
    "\n",
    "<p><a href=\"https://www.tensorflow.org/api_docs/python/tf/keras/applications/inception_v3\"><code translate=\"no\" dir=\"ltr\">inception_v3</code></a> module: Public API for tf.keras.applications.inception_v3 namespace.</p>\n",
    "\n",
    "<p><a href=\"https://www.tensorflow.org/api_docs/python/tf/keras/applications/mobilenet\"><code translate=\"no\" dir=\"ltr\">mobilenet</code></a> module: Public API for tf.keras.applications.mobilenet namespace.</p>\n",
    "\n",
    "<p><a href=\"https://www.tensorflow.org/api_docs/python/tf/keras/applications/mobilenet_v2\"><code translate=\"no\" dir=\"ltr\">mobilenet_v2</code></a> module: Public API for tf.keras.applications.mobilenet_v2 namespace.</p>\n",
    "\n",
    "<p><a href=\"https://www.tensorflow.org/api_docs/python/tf/keras/applications/mobilenet_v3\"><code translate=\"no\" dir=\"ltr\">mobilenet_v3</code></a> module: Public API for tf.keras.applications.mobilenet_v3 namespace.</p>\n",
    "\n",
    "<p><a href=\"https://www.tensorflow.org/api_docs/python/tf/keras/applications/nasnet\"><code translate=\"no\" dir=\"ltr\">nasnet</code></a> module: Public API for tf.keras.applications.nasnet namespace.</p>\n",
    "\n",
    "<p><a href=\"https://www.tensorflow.org/api_docs/python/tf/keras/applications/resnet\"><code translate=\"no\" dir=\"ltr\">resnet</code></a> module: Public API for tf.keras.applications.resnet namespace.</p>\n",
    "\n",
    "<p><a href=\"https://www.tensorflow.org/api_docs/python/tf/keras/applications/resnet50\"><code translate=\"no\" dir=\"ltr\">resnet50</code></a> module: Public API for tf.keras.applications.resnet50 namespace.</p>\n",
    "\n",
    "<p><a href=\"https://www.tensorflow.org/api_docs/python/tf/keras/applications/resnet_v2\"><code translate=\"no\" dir=\"ltr\">resnet_v2</code></a> module: Public API for tf.keras.applications.resnet_v2 namespace.</p>\n",
    "\n",
    "<p><a href=\"https://www.tensorflow.org/api_docs/python/tf/keras/applications/vgg16\"><code translate=\"no\" dir=\"ltr\">vgg16</code></a> module: Public API for tf.keras.applications.vgg16 namespace.</p>\n",
    "\n",
    "<p><a href=\"https://www.tensorflow.org/api_docs/python/tf/keras/applications/vgg19\"><code translate=\"no\" dir=\"ltr\">vgg19</code></a> module: Public API for tf.keras.applications.vgg19 namespace.</p>\n",
    "\n",
    "<p><a href=\"https://www.tensorflow.org/api_docs/python/tf/keras/applications/xception\"><code translate=\"no\" dir=\"ltr\">xception</code></a> module: Public API for tf.keras.applications.xception namespace.</p>"
   ]
  },
  {
   "cell_type": "code",
   "execution_count": 19,
   "metadata": {},
   "outputs": [],
   "source": [
    "# pretrain 모델 import 하기.\n",
    "from tensorflow.keras.applications.resnet50 import ResNet50, preprocess_input, decode_predictions\n",
    "from tensorflow.keras.preprocessing import image\n",
    "from PIL import Image\n",
    "from IPython.display import display"
   ]
  },
  {
   "cell_type": "markdown",
   "metadata": {},
   "source": [
    "테스트에는 다음의 test image를 이용할 것이다. quantization을 할 때 representative data로는 이 이미지 하나만 이용해도 된다."
   ]
  },
  {
   "cell_type": "code",
   "execution_count": 20,
   "metadata": {
    "scrolled": true
   },
   "outputs": [
    {
     "name": "stderr",
     "output_type": "stream",
     "text": [
      "  % Total    % Received % Xferd  Average Speed   Time    Time     Time  Current\n",
      "                                 Dload  Upload   Total   Spent    Left  Speed\n",
      "100  6677  100  6677    0     0  79488      0 --:--:-- --:--:-- --:--:-- 79488\n"
     ]
    },
    {
     "data": {
      "image/png": "[encoded data removed]",
      "text/plain": [
       "<PIL.Image.Image image mode=RGB size=224x224 at 0x7FAF802E3760>"
      ]
     },
     "metadata": {},
     "output_type": "display_data"
    }
   ],
   "source": [
    "url = \"https://cdn.education.com/files/526001_527000/526114/file_526114.jpg\"\n",
    "os.system(\"curl \" + url + \" > balloon.jpg\")\n",
    "img_path = 'balloon.jpg'\n",
    "img = image.load_img(img_path, target_size=(224, 224))\n",
    "display(img)\n",
    "x = image.img_to_array(img)\n",
    "x = np.expand_dims(x, axis=0)\n",
    "x = preprocess_input(x) # 각 모델을 학습할 때 preprocess했던 방법을 사용"
   ]
  },
  {
   "cell_type": "markdown",
   "metadata": {},
   "source": [
    "evaluate 할 때는 다음 함수를 이용"
   ]
  },
  {
   "cell_type": "code",
   "execution_count": 21,
   "metadata": {},
   "outputs": [],
   "source": [
    "def evaluate_model_practice(interpreter, test_images):\n",
    "    \n",
    "    input_details = interpreter.get_input_details()[0]\n",
    "    input_index = input_details[\"index\"]\n",
    "    output_index = interpreter.get_output_details()[0][\"index\"]\n",
    "\n",
    "    # Run predictions on every image in the \"test\" dataset.\n",
    "    prediction_digits = []\n",
    "    for i, test_image in enumerate(test_images):\n",
    "        if i % 1000 == 0:\n",
    "            print('Evaluated on {n} results so far.'.format(n=(i+1)))\n",
    "\n",
    "        # quantize input\n",
    "        if input_details['dtype'] == np.uint8:\n",
    "            input_scale, input_zero_point = input_details[\"quantization\"]\n",
    "            test_image = test_image / input_scale + input_zero_point\n",
    "\n",
    "        # Pre-processing: add batch dimension\n",
    "        test_image = np.expand_dims(test_image, axis=0).astype(input_details[\"dtype\"])\n",
    "        interpreter.set_tensor(input_index, test_image)\n",
    "\n",
    "        # Run inference.\n",
    "        interpreter.invoke()\n",
    "\n",
    "        preds = interpreter.tensor(output_index)\n",
    "        preds = np.expand_dims(preds()[0], axis=0)\n",
    "\n",
    "    return preds"
   ]
  },
  {
   "cell_type": "markdown",
   "metadata": {},
   "source": [
    "아래 코드 작성"
   ]
  },
  {
   "cell_type": "code",
   "execution_count": 22,
   "metadata": {
    "scrolled": false
   },
   "outputs": [
    {
     "name": "stderr",
     "output_type": "stream",
     "text": [
      "/home/david/miniconda3/lib/python3.8/site-packages/keras/utils/generic_utils.py:494: CustomMaskWarning: Custom mask layers require a config and must override get_config. When loading, the custom mask layer must be passed to the custom_objects argument.\n",
      "  warnings.warn('Custom mask layers require a config and must override '\n",
      "/home/david/miniconda3/lib/python3.8/site-packages/keras/utils/generic_utils.py:494: CustomMaskWarning: Custom mask layers require a config and must override get_config. When loading, the custom mask layer must be passed to the custom_objects argument.\n",
      "  warnings.warn('Custom mask layers require a config and must override '\n",
      "fully_quantize: 0, inference_type: 6, input_inference_type: 3, output_inference_type: 3\n",
      "WARNING:absl:For model inputs containing unsupported operations which cannot be quantized, the `inference_input_type` attribute will default to the original type.\n"
     ]
    },
    {
     "name": "stdout",
     "output_type": "stream",
     "text": [
      "Evaluated on 1 results so far.\n",
      "Predicted: [('n02782093', 'balloon', 244), ('n04023962', 'punching_bag', 8), ('n03942813', 'ping-pong_ball', 1)]\n"
     ]
    }
   ],
   "source": [
    "# 1. import한 pretrain 모델 가져오기\n",
    "# =================================TODO=======================================\n",
    "your_model = ResNet50(weights='imagenet')\n",
    "# =================================TODO Fin===================================\n",
    "# 2. full integer post-training quantization\n",
    "converter = tf.lite.TFLiteConverter.from_keras_model(your_model)\n",
    "model_tflite = converter.convert() # 기존 모델 tflite\n",
    "\n",
    "import numpy as np\n",
    "def representative_data_gen():\n",
    "    yield [x] # test할 이미지 1개만 사용\n",
    "# =================================TODO=======================================\n",
    "post_quant_converter = tf.lite.TFLiteConverter.from_keras_model(your_model)\n",
    "\n",
    "post_quant_converter.optimizations = [tf.lite.Optimize.DEFAULT]\n",
    "post_quant_converter.representative_dataset = representative_data_gen\n",
    "# Ensure that if any ops can't be quantized, the converter throws an error\n",
    "post_quant_converter.target_spec.supported_ops = [tf.lite.OpsSet.TFLITE_BUILTINS_INT8]\n",
    "# Set the input and output tensors to uint8 (APIs added in r2.3)\n",
    "post_quant_converter.inference_input_type = tf.uint8\n",
    "post_quant_converter.inference_output_type = tf.uint8\n",
    "\n",
    "post_quant_tflite = post_quant_converter.convert()\n",
    "# =================================TODO Fin===================================\n",
    "\n",
    "\n",
    "# 3. make interpreter and do inference\n",
    "# =================================TODO=======================================\n",
    "post_quant_interpreter = tf.lite.Interpreter(model_content=post_quant_tflite)\n",
    "\n",
    "post_quant_interpreter.allocate_tensors()\n",
    "preds = evaluate_model_practice(post_quant_interpreter, x)\n",
    "print('Predicted:', decode_predictions(preds, top=3)[0])\n",
    "# =================================TODO Fin==================================="
   ]
  },
  {
   "cell_type": "markdown",
   "metadata": {},
   "source": [
    "크기 비교"
   ]
  },
  {
   "cell_type": "code",
   "execution_count": 23,
   "metadata": {},
   "outputs": [
    {
     "name": "stdout",
     "output_type": "stream",
     "text": [
      "Float model in Mb: 97.43085861206055\n",
      "Quantized model in Mb: 25.079750061035156\n"
     ]
    }
   ],
   "source": [
    "# Measure sizes of models.\n",
    "_, model_tflite_file = tempfile.mkstemp('.tflite')\n",
    "_, post_quant_tflite_file = tempfile.mkstemp('.tflite')\n",
    "\n",
    "\n",
    "with open(model_tflite_file, 'wb') as f:\n",
    "    f.write(model_tflite)\n",
    "\n",
    "with open(post_quant_tflite_file, 'wb') as f:\n",
    "    f.write(post_quant_tflite)\n",
    "\n",
    "\n",
    "print(\"Float model in Mb:\", os.path.getsize(model_tflite_file) / float(2**20))\n",
    "print(\"Quantized model in Mb:\", os.path.getsize(post_quant_tflite_file) / float(2**20))"
   ]
  },
  {
   "cell_type": "markdown",
   "metadata": {},
   "source": [
    "### 3. [Quantization Aware Training(QAT)](https://blog.tensorflow.org/2020/04/quantization-aware-training-with-tensorflow-model-optimization-toolkit.html)\n",
    "\n",
    "수업 시간에 배웠듯이 QAT는 나중에 quantization을 할 것이라는 것을 가정하고 학습하는 것이다. scratch부터 학습해도 되지만, 이미 학습된 모델을 fine tuning 하는 것이 좋다고 한다."
   ]
  },
  {
   "cell_type": "code",
   "execution_count": null,
   "metadata": {},
   "outputs": [],
   "source": [
    "!pip install -q tensorflow-model-optimization"
   ]
  },
  {
   "cell_type": "code",
   "execution_count": 24,
   "metadata": {},
   "outputs": [],
   "source": [
    "import tensorflow_model_optimization as tfmot"
   ]
  },
  {
   "cell_type": "markdown",
   "metadata": {},
   "source": [
    "### 3-1. Quantize whole model\n",
    "\n",
    "Edge TPU와 같이 fully quantized 모델이 필요한 경우에는 전체 모델에 대해 QAT를 한다."
   ]
  },
  {
   "cell_type": "markdown",
   "metadata": {},
   "source": [
    "위에서 학습한 float32모델로 QAT를 해볼 것이다.`tfmot.quantization.keras.quantize_model`함수를 이용한다."
   ]
  },
  {
   "cell_type": "code",
   "execution_count": 25,
   "metadata": {
    "scrolled": true
   },
   "outputs": [
    {
     "name": "stdout",
     "output_type": "stream",
     "text": [
      "Model: \"sequential\"\n",
      "_________________________________________________________________\n",
      "Layer (type)                 Output Shape              Param #   \n",
      "=================================================================\n",
      "quantize_layer (QuantizeLaye (None, 28, 28)            3         \n",
      "_________________________________________________________________\n",
      "quant_reshape (QuantizeWrapp (None, 28, 28, 1)         1         \n",
      "_________________________________________________________________\n",
      "quant_conv2d (QuantizeWrappe (None, 28, 28, 16)        195       \n",
      "_________________________________________________________________\n",
      "quant_max_pooling2d (Quantiz (None, 14, 14, 16)        1         \n",
      "_________________________________________________________________\n",
      "quant_conv2d_1 (QuantizeWrap (None, 14, 14, 32)        4707      \n",
      "_________________________________________________________________\n",
      "quant_max_pooling2d_1 (Quant (None, 7, 7, 32)          1         \n",
      "_________________________________________________________________\n",
      "quant_flatten (QuantizeWrapp (None, 1568)              1         \n",
      "_________________________________________________________________\n",
      "quant_dense (QuantizeWrapper (None, 10)                15695     \n",
      "=================================================================\n",
      "Total params: 20,604\n",
      "Trainable params: 20,490\n",
      "Non-trainable params: 114\n",
      "_________________________________________________________________\n"
     ]
    }
   ],
   "source": [
    "quant_aware_model = tfmot.quantization.keras.quantize_model(model)\n",
    "\n",
    "# `quantize_model` requires a recompile.\n",
    "quant_aware_model.compile(optimizer='adam',\n",
    "                  loss=tf.keras.losses.SparseCategoricalCrossentropy(from_logits=False),\n",
    "                  metrics=['accuracy'])\n",
    "\n",
    "quant_aware_model.summary()"
   ]
  },
  {
   "cell_type": "markdown",
   "metadata": {},
   "source": [
    "layer에 quant가 붙은 것을 확인할 수 있다. 그 다음으로는, data의 일부를 이용해서 fine tuning 한다."
   ]
  },
  {
   "cell_type": "code",
   "execution_count": 26,
   "metadata": {
    "scrolled": true
   },
   "outputs": [
    {
     "name": "stdout",
     "output_type": "stream",
     "text": [
      "2/2 [==============================] - 1s 184ms/step - loss: 0.2237 - accuracy: 0.9233 - val_loss: 0.2948 - val_accuracy: 0.9000\n"
     ]
    },
    {
     "data": {
      "text/plain": [
       "<keras.callbacks.History at 0x7faec9ccbee0>"
      ]
     },
     "execution_count": 26,
     "metadata": {},
     "output_type": "execute_result"
    }
   ],
   "source": [
    "# data 일부를 이용해서 fine tuning\n",
    "train_images_subset = train_images[0:1000] # out of 60000\n",
    "train_labels_subset = train_labels[0:1000]\n",
    "\n",
    "quant_aware_model.fit(train_images_subset, train_labels_subset,\n",
    "                  batch_size=500, epochs=1, validation_split=0.1)"
   ]
  },
  {
   "cell_type": "markdown",
   "metadata": {},
   "source": [
    "아직 quantization을 하지 않았으므로 weight은 실수이다."
   ]
  },
  {
   "cell_type": "code",
   "execution_count": 27,
   "metadata": {},
   "outputs": [
    {
     "data": {
      "text/plain": [
       "'float32'"
      ]
     },
     "execution_count": 27,
     "metadata": {},
     "output_type": "execute_result"
    }
   ],
   "source": [
    "quant_aware_model.variable_dtype"
   ]
  },
  {
   "cell_type": "markdown",
   "metadata": {},
   "source": [
    "실수 weight이므로 QAT를 한다고 해서 accuracy가 떨어지지 않는다."
   ]
  },
  {
   "cell_type": "code",
   "execution_count": 28,
   "metadata": {},
   "outputs": [
    {
     "name": "stdout",
     "output_type": "stream",
     "text": [
      "Baseline test accuracy: 0.8907999992370605\n",
      "QAT test accuracy: 0.8982999920845032\n"
     ]
    }
   ],
   "source": [
    "_, baseline_model_accuracy = model.evaluate(\n",
    "    test_images, test_labels, verbose=0)\n",
    "\n",
    "_, quant_aware_model_accuracy = quant_aware_model.evaluate(\n",
    "   test_images, test_labels, verbose=0)\n",
    "\n",
    "print('Baseline test accuracy:', baseline_model_accuracy)\n",
    "print('QAT test accuracy:', quant_aware_model_accuracy)"
   ]
  },
  {
   "cell_type": "markdown",
   "metadata": {},
   "source": [
    "이제 QAT로 학습한 모델을 quantization 해보자. post-training quantization과 비슷하게 TFLiteConverter를 이용하면 된다."
   ]
  },
  {
   "cell_type": "code",
   "execution_count": 29,
   "metadata": {
    "scrolled": true
   },
   "outputs": [
    {
     "name": "stderr",
     "output_type": "stream",
     "text": [
      "WARNING:absl:Found untraced functions such as reshape_layer_call_and_return_conditional_losses, reshape_layer_call_fn, conv2d_layer_call_and_return_conditional_losses, conv2d_layer_call_fn, conv2d_1_layer_call_and_return_conditional_losses while saving (showing 5 of 25). These functions will not be directly callable after loading.\n"
     ]
    }
   ],
   "source": [
    "converter = tf.lite.TFLiteConverter.from_keras_model(quant_aware_model)\n",
    "\n",
    "converter.optimizations = [tf.lite.Optimize.DEFAULT]\n",
    "# Set the input and output tensors to uint8 (APIs added in r2.3)\n",
    "converter.inference_input_type = tf.uint8 # or tf.int8\n",
    "converter.inference_output_type = tf.uint8 # or tf.int8\n",
    "\n",
    "\n",
    "QAT_tflite_model = converter.convert()"
   ]
  },
  {
   "cell_type": "markdown",
   "metadata": {},
   "source": [
    "quantization을 해도 accuracy가 떨어지지 않는 것을 알 수 있다."
   ]
  },
  {
   "cell_type": "code",
   "execution_count": 30,
   "metadata": {},
   "outputs": [
    {
     "name": "stdout",
     "output_type": "stream",
     "text": [
      "Evaluated on 1000 results so far.\n",
      "Evaluated on 2000 results so far.\n",
      "Evaluated on 3000 results so far.\n",
      "Evaluated on 4000 results so far.\n",
      "Evaluated on 5000 results so far.\n",
      "Evaluated on 6000 results so far.\n",
      "Evaluated on 7000 results so far.\n"
     ]
    },
    {
     "ename": "KeyboardInterrupt",
     "evalue": "",
     "output_type": "error",
     "traceback": [
      "\u001b[0;31m---------------------------------------------------------------------------\u001b[0m",
      "\u001b[0;31mKeyboardInterrupt\u001b[0m                         Traceback (most recent call last)",
      "\u001b[0;32m/tmp/ipykernel_24633/2552567575.py\u001b[0m in \u001b[0;36m<module>\u001b[0;34m\u001b[0m\n\u001b[1;32m      2\u001b[0m \u001b[0mQAT_interpreter\u001b[0m\u001b[0;34m.\u001b[0m\u001b[0mallocate_tensors\u001b[0m\u001b[0;34m(\u001b[0m\u001b[0;34m)\u001b[0m\u001b[0;34m\u001b[0m\u001b[0;34m\u001b[0m\u001b[0m\n\u001b[1;32m      3\u001b[0m \u001b[0;34m\u001b[0m\u001b[0m\n\u001b[0;32m----> 4\u001b[0;31m \u001b[0mQAT_test_accuracy\u001b[0m\u001b[0;34m,\u001b[0m \u001b[0moutput\u001b[0m \u001b[0;34m=\u001b[0m \u001b[0mevaluate_model\u001b[0m\u001b[0;34m(\u001b[0m\u001b[0mQAT_interpreter\u001b[0m\u001b[0;34m)\u001b[0m\u001b[0;34m\u001b[0m\u001b[0;34m\u001b[0m\u001b[0m\n\u001b[0m\u001b[1;32m      5\u001b[0m \u001b[0;34m\u001b[0m\u001b[0m\n\u001b[1;32m      6\u001b[0m \u001b[0mprint\u001b[0m\u001b[0;34m(\u001b[0m\u001b[0;34m'Baseline test accuracy:'\u001b[0m\u001b[0;34m,\u001b[0m \u001b[0mbaseline_model_accuracy\u001b[0m\u001b[0;34m)\u001b[0m\u001b[0;34m\u001b[0m\u001b[0;34m\u001b[0m\u001b[0m\n",
      "\u001b[0;32m/tmp/ipykernel_24633/3538800336.py\u001b[0m in \u001b[0;36mevaluate_model\u001b[0;34m(interpreter)\u001b[0m\n\u001b[1;32m     22\u001b[0m \u001b[0;34m\u001b[0m\u001b[0m\n\u001b[1;32m     23\u001b[0m         \u001b[0;31m# 인퍼런스\u001b[0m\u001b[0;34m\u001b[0m\u001b[0;34m\u001b[0m\u001b[0;34m\u001b[0m\u001b[0m\n\u001b[0;32m---> 24\u001b[0;31m         \u001b[0minterpreter\u001b[0m\u001b[0;34m.\u001b[0m\u001b[0minvoke\u001b[0m\u001b[0;34m(\u001b[0m\u001b[0;34m)\u001b[0m\u001b[0;34m\u001b[0m\u001b[0;34m\u001b[0m\u001b[0m\n\u001b[0m\u001b[1;32m     25\u001b[0m \u001b[0;34m\u001b[0m\u001b[0m\n\u001b[1;32m     26\u001b[0m         \u001b[0;31m# Post-processing: 배치 차원 삭제 및 prediction_digits에 예측값 추가\u001b[0m\u001b[0;34m\u001b[0m\u001b[0;34m\u001b[0m\u001b[0;34m\u001b[0m\u001b[0m\n",
      "\u001b[0;32m~/miniconda3/lib/python3.8/site-packages/tensorflow/lite/python/interpreter.py\u001b[0m in \u001b[0;36minvoke\u001b[0;34m(self)\u001b[0m\n\u001b[1;32m    873\u001b[0m     \"\"\"\n\u001b[1;32m    874\u001b[0m     \u001b[0mself\u001b[0m\u001b[0;34m.\u001b[0m\u001b[0m_ensure_safe\u001b[0m\u001b[0;34m(\u001b[0m\u001b[0;34m)\u001b[0m\u001b[0;34m\u001b[0m\u001b[0;34m\u001b[0m\u001b[0m\n\u001b[0;32m--> 875\u001b[0;31m     \u001b[0mself\u001b[0m\u001b[0;34m.\u001b[0m\u001b[0m_interpreter\u001b[0m\u001b[0;34m.\u001b[0m\u001b[0mInvoke\u001b[0m\u001b[0;34m(\u001b[0m\u001b[0;34m)\u001b[0m\u001b[0;34m\u001b[0m\u001b[0;34m\u001b[0m\u001b[0m\n\u001b[0m\u001b[1;32m    876\u001b[0m \u001b[0;34m\u001b[0m\u001b[0m\n\u001b[1;32m    877\u001b[0m   \u001b[0;32mdef\u001b[0m \u001b[0mreset_all_variables\u001b[0m\u001b[0;34m(\u001b[0m\u001b[0mself\u001b[0m\u001b[0;34m)\u001b[0m\u001b[0;34m:\u001b[0m\u001b[0;34m\u001b[0m\u001b[0;34m\u001b[0m\u001b[0m\n",
      "\u001b[0;31mKeyboardInterrupt\u001b[0m: "
     ]
    }
   ],
   "source": [
    "QAT_interpreter = tf.lite.Interpreter(model_content=QAT_tflite_model)\n",
    "QAT_interpreter.allocate_tensors()\n",
    "\n",
    "QAT_test_accuracy, output = evaluate_model(QAT_interpreter)\n",
    "\n",
    "print('Baseline test accuracy:', baseline_model_accuracy)\n",
    "print('Post-training Quantized test accuracy:', post_quant_tflite_test_accuracy)\n",
    "print('Quantized QAT test accuracy:', QAT_test_accuracy)\n"
   ]
  },
  {
   "cell_type": "markdown",
   "metadata": {},
   "source": [
    "마찬가지로 크기가 1/4로 줄어든 것을 알 수 있다."
   ]
  },
  {
   "cell_type": "code",
   "execution_count": null,
   "metadata": {},
   "outputs": [],
   "source": [
    "# create temp file\n",
    "_, QAT_tflite_file = tempfile.mkstemp('.tflite')\n",
    "\n",
    "with open(QAT_tflite_file, 'wb') as f:\n",
    "    f.write(QAT_tflite_model)\n",
    "\n",
    "print(\"Float tflite model in Mb:\", os.path.getsize(tflite_file) / float(2**20))\n",
    "print(\"Quantized QAT model in Mb:\", os.path.getsize(QAT_tflite_file) / float(2**20))"
   ]
  },
  {
   "cell_type": "markdown",
   "metadata": {},
   "source": [
    "### 3-2. Quantize some layers\n",
    "\n",
    "Edge TPU 등 특별한 하드웨어가 아닌 경우에는 선택적으로 layer를 quantization할 수도 있다.\n",
    "\n",
    "**Tips for better accuracy**\n",
    "* from scratch보다는 fine tuning\n",
    "* 뒤쪽 layer를 quantization 하기\n",
    "* 특별히 중요한 layer는 quantization 피하기 (e.g. attention layer)"
   ]
  },
  {
   "cell_type": "markdown",
   "metadata": {},
   "source": [
    "### 3-2-1. 마지막 레이어만 quantization하는 fine-tuning "
   ]
  },
  {
   "cell_type": "markdown",
   "metadata": {},
   "source": [
    "Dense layer만 quantization "
   ]
  },
  {
   "cell_type": "code",
   "execution_count": null,
   "metadata": {
    "scrolled": true
   },
   "outputs": [],
   "source": [
    "model.layers[-1].name"
   ]
  },
  {
   "cell_type": "markdown",
   "metadata": {},
   "source": [
    "`tfmot.quantization.keras.quantize_annotate_layer` 함수를 이용해서 특정 layer를 quantization할 것이라고 표시한다."
   ]
  },
  {
   "cell_type": "code",
   "execution_count": null,
   "metadata": {},
   "outputs": [],
   "source": [
    "# Helper Function\n",
    "def apply_quantization_to_dense(layer):\n",
    "    # if isinstance(layer, tf.keras.layers.Dense)\n",
    "    if \"dense\" in layer.name:\n",
    "        return tfmot.quantization.keras.quantize_annotate_layer(layer)\n",
    "    else:\n",
    "        return layer"
   ]
  },
  {
   "cell_type": "markdown",
   "metadata": {},
   "source": [
    "`tf.keras.models.clone_model` 함수와 helper function을 이용해서 annotated model을 만들고, `tfmot.quantization.keras.quantize_apply`함수를 이용해서 QAT를 위한 모델을 만들면 된다."
   ]
  },
  {
   "cell_type": "code",
   "execution_count": null,
   "metadata": {
    "scrolled": true
   },
   "outputs": [],
   "source": [
    "annotated_model = tf.keras.models.clone_model(\n",
    "    model,\n",
    "    clone_function=apply_quantization_to_dense,\n",
    ")\n",
    "quant_aware_model = tfmot.quantization.keras.quantize_apply(annotated_model)\n",
    "quant_aware_model.summary()"
   ]
  },
  {
   "cell_type": "markdown",
   "metadata": {},
   "source": [
    "### 3-2-2. From scratch"
   ]
  },
  {
   "cell_type": "markdown",
   "metadata": {},
   "source": [
    "**Sequential example**"
   ]
  },
  {
   "cell_type": "code",
   "execution_count": null,
   "metadata": {
    "scrolled": true
   },
   "outputs": [],
   "source": [
    "annotated_model = tf.keras.Sequential([\n",
    "  tf.keras.layers.InputLayer(input_shape=(28, 28)),\n",
    "  tf.keras.layers.Reshape(target_shape=(28, 28, 1)),\n",
    "  tf.keras.layers.Conv2D(filters=12, kernel_size=(3, 3), activation='relu'),\n",
    "  tf.keras.layers.MaxPooling2D(pool_size=(2, 2)),\n",
    "  tf.keras.layers.Flatten(),\n",
    "  tfmot.quantization.keras.quantize_annotate_layer(tf.keras.layers.Dense(10)) # Sequential 내부에 layer 추가\n",
    "                                                                              # 마지막 Dense만 quantization\n",
    "])\n",
    "quant_aware_model = tfmot.quantization.keras.quantize_apply(annotated_model) # Quantization 진행 \n",
    "\n",
    "quant_aware_model.summary()"
   ]
  },
  {
   "cell_type": "markdown",
   "metadata": {},
   "source": [
    "**Functional example**"
   ]
  },
  {
   "cell_type": "code",
   "execution_count": null,
   "metadata": {},
   "outputs": [],
   "source": [
    "inputs = tf.keras.Input(shape=(28, 28))\n",
    "x = tf.keras.layers.Reshape(target_shape=(28, 28, 1))(inputs)\n",
    "\n",
    "# 이 Conv2D layer만 quantization\n",
    "x = tfmot.quantization.keras.quantize_annotate_layer(tf.keras.layers.Conv2D(filters=12, kernel_size=(3, 3), activation='relu'))(x) \n",
    "\n",
    "x = tf.keras.layers.MaxPooling2D(pool_size=(2, 2))(x)\n",
    "x = tf.keras.layers.Flatten()(x)\n",
    "outputs = tf.keras.layers.Dense(10)(x)\n",
    "\n",
    "annotated_model = tf.keras.Model(inputs=inputs, outputs=outputs)\n",
    "quant_aware_model = tfmot.quantization.keras.quantize_apply(annotated_model)\n",
    "quant_aware_model.summary()"
   ]
  },
  {
   "cell_type": "markdown",
   "metadata": {},
   "source": [
    "## 4. [Pruning](https://blog.tensorflow.org/2019/05/tf-model-optimization-toolkit-pruning-API.html)\n",
    "\n",
    "Pruning은 불필요한 (i.e. 0에 가까운) weight을 0으로 만들어 모델이 해야하는 계산을 줄이면서 optimize를 한다."
   ]
  },
  {
   "cell_type": "markdown",
   "metadata": {},
   "source": [
    "`tfmot.sparsity.keras.prune_low_magnitude`을 이용해서 모델을 만든다. 이 때, 논문에서 제안된 pruning 방식인 `tfmot.sparsity.keras.PolynomialDecay` 을 parameter로 넘겨준다. `PolynomialDecay`에는 다음과 같은 hyperparameter들이 있다.\n",
    "* `initial_sparsity`: pruning을 시작할 때의 sparsity를 몇으로 할 지\n",
    "* `final_sparsity`: pruning을 끝낼 때의 sparsity를 몇으로 할 지\n",
    "* `begin_step`: pruning을 언제부터 진행할 지 (batch 단위의 step)\n",
    "* `end_step`: pruning을 언제 끝낼 지"
   ]
  },
  {
   "cell_type": "markdown",
   "metadata": {},
   "source": [
    "### 4-1. Pruning을 하기 전에 크기 비교시 사용하기 위해 baseline model을 미리 저장한다."
   ]
  },
  {
   "cell_type": "code",
   "execution_count": null,
   "metadata": {},
   "outputs": [],
   "source": [
    "_, keras_file = tempfile.mkstemp('.h5')\n",
    "tf.keras.models.save_model(model, keras_file, include_optimizer=False)\n",
    "print('Saved baseline model to:', keras_file)"
   ]
  },
  {
   "cell_type": "markdown",
   "metadata": {},
   "source": [
    "### 4-2. Pruning을 위한 모델과 파라미터를 정의한다"
   ]
  },
  {
   "cell_type": "code",
   "execution_count": null,
   "metadata": {
    "scrolled": true
   },
   "outputs": [],
   "source": [
    "# Compute end step to finish pruning after 2 epochs.\n",
    "batch_size = 128\n",
    "epochs = 2\n",
    "\n",
    "num_images = train_images.shape[0]\n",
    "end_step = np.ceil(num_images / batch_size).astype(np.int32) * epochs\n",
    "\n",
    "# Define model for pruning.\n",
    "pruning_params = {\n",
    "      'pruning_schedule': tfmot.sparsity.keras.PolynomialDecay(initial_sparsity=0.50,#pruning을 시작할 때의 sparsity\n",
    "                                                               final_sparsity=0.80, #pruning을 끝낼 때의 sparsity\n",
    "                                                               begin_step=10, #언제 pruning을 시작할지 (배치 단위)\n",
    "                                                               end_step=end_step) #언제 pruning을 멈출지\n",
    "}\n",
    "\n",
    "model_for_pruning = tfmot.sparsity.keras.prune_low_magnitude(model, **pruning_params)\n",
    "\n",
    "# `prune_low_magnitude` requires a recompile.\n",
    "model_for_pruning.compile(optimizer='adam',\n",
    "              loss=tf.keras.losses.SparseCategoricalCrossentropy(from_logits=False),\n",
    "              metrics=['accuracy'])\n",
    "\n",
    "model_for_pruning.summary()"
   ]
  },
  {
   "cell_type": "markdown",
   "metadata": {},
   "source": [
    "### 4-3. 학습\n",
    "* `fit`을 할 때, `tfmot.sparsity.keras.UpdatePruningStep`을 callback으로 불러야 한다"
   ]
  },
  {
   "cell_type": "code",
   "execution_count": null,
   "metadata": {},
   "outputs": [],
   "source": [
    "callbacks = [\n",
    "  tfmot.sparsity.keras.UpdatePruningStep(),\n",
    "]\n",
    "  \n",
    "model_for_pruning.fit(train_images, train_labels,\n",
    "                  batch_size=batch_size, \n",
    "                  epochs=epochs,\n",
    "                  callbacks=callbacks)"
   ]
  },
  {
   "cell_type": "markdown",
   "metadata": {},
   "source": [
    "### 4-4. 결과 \n",
    "baseline 모델과 accuracy를 비교해 보자."
   ]
  },
  {
   "cell_type": "code",
   "execution_count": null,
   "metadata": {},
   "outputs": [],
   "source": [
    "_, model_for_pruning_accuracy = model_for_pruning.evaluate(\n",
    "   test_images, test_labels, verbose=0)\n",
    "\n",
    "print('Baseline test accuracy:', baseline_model_accuracy) \n",
    "print('Pruned test accuracy:', model_for_pruning_accuracy)"
   ]
  },
  {
   "cell_type": "markdown",
   "metadata": {},
   "source": [
    "### 4-5. 변수 삭제"
   ]
  },
  {
   "cell_type": "markdown",
   "metadata": {},
   "source": [
    "위에 summary를 보면 pruning을 하기 위해 non-trainable parameter가 생긴 것을 알 수 있다. `tfmot.sparsity.keras.strip_pruning`을 이용해서 pruning에 사용한 variable을 제거해 준다."
   ]
  },
  {
   "cell_type": "code",
   "execution_count": null,
   "metadata": {
    "scrolled": true
   },
   "outputs": [],
   "source": [
    "model_for_export = tfmot.sparsity.keras.strip_pruning(model_for_pruning)\n",
    "\n",
    "_, pruned_keras_file = tempfile.mkstemp('.h5')\n",
    "tf.keras.models.save_model(model_for_export, pruned_keras_file, include_optimizer=False)\n",
    "print('Saved pruned Keras model to:', pruned_keras_file)"
   ]
  },
  {
   "cell_type": "markdown",
   "metadata": {},
   "source": [
    "Pruning된 모델 tflite으로 저장"
   ]
  },
  {
   "cell_type": "code",
   "execution_count": null,
   "metadata": {
    "scrolled": true
   },
   "outputs": [],
   "source": [
    "converter = tf.lite.TFLiteConverter.from_keras_model(model_for_export)\n",
    "pruned_tflite_model = converter.convert()\n",
    "\n",
    "_, pruned_tflite_file = tempfile.mkstemp('.tflite')\n",
    "\n",
    "with open(pruned_tflite_file, 'wb') as f:\n",
    "    f.write(pruned_tflite_model)\n",
    "\n",
    "print('Saved pruned TFLite model to:', pruned_tflite_file)"
   ]
  },
  {
   "cell_type": "markdown",
   "metadata": {},
   "source": [
    "### 4-6. 학습된 모델 크기 확인 "
   ]
  },
  {
   "cell_type": "markdown",
   "metadata": {},
   "source": [
    "pruning을 해도 weight matrix의 크기는 그대로이다. 하지만 matrix의 값이 대부분 0이기 때문에 감소된 크기를 확인하려면 실제로 zip파일 등으로 압축하는 과정을 거쳐야 한다."
   ]
  },
  {
   "cell_type": "code",
   "execution_count": null,
   "metadata": {},
   "outputs": [],
   "source": [
    "def get_gzipped_model_size(file):\n",
    "  # Returns size of gzipped model, in bytes.\n",
    "    _, zipped_file = tempfile.mkstemp('.zip')\n",
    "    with zipfile.ZipFile(zipped_file, 'w', compression=zipfile.ZIP_DEFLATED) as f:\n",
    "        f.write(file)\n",
    "    return os.path.getsize(zipped_file)/1000"
   ]
  },
  {
   "cell_type": "code",
   "execution_count": null,
   "metadata": {},
   "outputs": [],
   "source": [
    "print(\"Size of gzipped baseline Keras model: %.2f kB\" % (get_gzipped_model_size(keras_file))) #Baseline 모델 압축\n",
    "print(\"Size of gzipped pruned Keras model: %.2f kB\" % (get_gzipped_model_size(pruned_keras_file))) #Keras 모델 압축 \n",
    "print(\"Size of gzipped pruned TFlite model: %.2f kB\" % (get_gzipped_model_size(pruned_tflite_file))) #TFLite 모델 압축"
   ]
  },
  {
   "cell_type": "markdown",
   "metadata": {},
   "source": [
    "## 5. Pruning 과 Quantization 합치기\n",
    "pruning을 한 다음에 post-training quantization까지 하면 크기를 더 줄일 수 있다."
   ]
  },
  {
   "cell_type": "code",
   "execution_count": null,
   "metadata": {},
   "outputs": [],
   "source": [
    "def representative_data_gen():\n",
    "    for input_value in tf.data.Dataset.from_tensor_slices(train_images).batch(1).take(100):\n",
    "        yield [input_value]\n",
    "\n",
    "converter = tf.lite.TFLiteConverter.from_keras_model(model_for_export) # 위에서 사용한 pruning된 모델 \n",
    "\n",
    "converter.optimizations = [tf.lite.Optimize.DEFAULT]\n",
    "converter.representative_dataset = representative_data_gen\n",
    "# Ensure that if any ops can't be quantized, the converter throws an error\n",
    "converter.target_spec.supported_ops = [tf.lite.OpsSet.TFLITE_BUILTINS_INT8]\n",
    "# Set the input and output tensors to uint8 (APIs added in r2.3)\n",
    "converter.inference_input_type = tf.uint8\n",
    "converter.inference_output_type = tf.uint8\n",
    "\n",
    "quantized_and_pruned_tflite_model = converter.convert()\n",
    "\n",
    "_, quantized_and_pruned_tflite_file = tempfile.mkstemp('.tflite')\n",
    "\n",
    "with open(quantized_and_pruned_tflite_file, 'wb') as f:\n",
    "    f.write(quantized_and_pruned_tflite_model)\n",
    "\n",
    "print('Saved quantized and pruned TFLite model to:', quantized_and_pruned_tflite_file)\n",
    "print(\"Size of gzipped baseline Keras model: %.2f bytes\" % (get_gzipped_model_size(keras_file)))\n",
    "print(\"Size of gzipped pruned and quantized TFlite model: %.2f bytes\" % (get_gzipped_model_size(quantized_and_pruned_tflite_file)))"
   ]
  },
  {
   "cell_type": "markdown",
   "metadata": {},
   "source": [
    "### 5-1. baseline 모델과 accuracy 비교 "
   ]
  },
  {
   "cell_type": "code",
   "execution_count": null,
   "metadata": {
    "scrolled": true
   },
   "outputs": [],
   "source": [
    "interpreter = tf.lite.Interpreter(model_content=quantized_and_pruned_tflite_model)\n",
    "interpreter.allocate_tensors()\n",
    "\n",
    "test_accuracy, _ = evaluate_model(interpreter)\n",
    "\n",
    "print('Baseline test accuracy:', baseline_model_accuracy)\n",
    "print('Pruned and quantized TFLite test_accuracy:', test_accuracy)"
   ]
  },
  {
   "cell_type": "markdown",
   "metadata": {},
   "source": [
    "QAT와 비슷하게, pruning도 layer를 선택적으로 pruning 할 수 있다. 이 부분은 [TF Pruning guide](https://www.tensorflow.org/model_optimization/guide/pruning/comprehensive_guide)를 참고"
   ]
  },
  {
   "cell_type": "markdown",
   "metadata": {},
   "source": [
    "# Appendix. [ONNX](https://github.com/onnx/onnx)\n",
    "* Reference:  https://github.com/omerferhatt/torch2tflite"
   ]
  },
  {
   "cell_type": "markdown",
   "metadata": {},
   "source": [
    "학습된 Tensorflow 모델을 이용해서 tflite 모델을 만들고 싶은데, Tensorflow 모델은 없고 Pytorch 모델만 있다면...? 이럴 때 사용하는 것이 ONNX이다. ONNX는 서로다른 deep learning framework에서 모델을 사용하고 싶을 때, 모델을 원하는 framework로 변환해 주는 기능을 제공한다. \n",
    "  \n",
    "즉, ONNX를 이용해서 pytorch 모델을 tensorflow 모델로 바꾼 다음, tensorflow lite 모델을 만들어 주면 된다.\n",
    "  \n",
    "* 모든 모델을 완벽하게 바꿔주는 것은 아니여서 (e.g. accuracy 감소 및 변환이 안되는 operation 등이 있을 수 있음), 처음부터 학습해야 하는 경우에는 pytorch 코드를 tensorflow 코드로 구현해서 모델을 학습하는게 좋고, 그게 잘 안되거나 pretrained pytorch 모델을 꼭 써야하는 경우에 이용\n",
    "\n",
    "* Tensorflow, Pytorch, ONNX 세 개의 플랫폼의 버전 호환성으로 인해 실제로 본인이 원하는 모델을 바꾸려면 많은 시행착오가 필요함.."
   ]
  },
  {
   "cell_type": "code",
   "execution_count": null,
   "metadata": {},
   "outputs": [],
   "source": [
    "!pip uninstall tensorflow -y\n",
    "!pip uninstall torch -y"
   ]
  },
  {
   "cell_type": "code",
   "execution_count": null,
   "metadata": {},
   "outputs": [],
   "source": [
    "!pip install -q tf-nightly\n",
    "!pip install tensorflow-addons==0.11.2\n",
    "!pip install torch==1.7.0\n",
    "!pip install onnx==1.8.0\n",
    "!pip install onnx-tf==1.7.0"
   ]
  },
  {
   "cell_type": "markdown",
   "metadata": {},
   "source": [
    "### kernel restart"
   ]
  },
  {
   "cell_type": "code",
   "execution_count": null,
   "metadata": {},
   "outputs": [],
   "source": [
    "import os\n",
    "import shutil\n",
    "import sys\n",
    "\n",
    "import cv2\n",
    "import numpy as np\n",
    "import onnx\n",
    "import tensorflow as tf\n",
    "import torch\n",
    "from PIL import Image\n",
    "from onnx_tf.backend import prepare\n",
    "from torchvision import transforms"
   ]
  },
  {
   "cell_type": "markdown",
   "metadata": {},
   "source": [
    "## 필요한 함수들 정의"
   ]
  },
  {
   "cell_type": "code",
   "execution_count": null,
   "metadata": {},
   "outputs": [],
   "source": [
    "def get_example_input(image_file):\n",
    "    \"\"\"\n",
    "    Loads image from disk and converts to compatible shape.\n",
    "    :param image_file: Path to single image file\n",
    "    :return: Original image, numpy.ndarray instance image, torch.Tensor image\n",
    "    \"\"\"\n",
    "    transform = transforms.Compose([\n",
    "        transforms.Resize((224, 224)),\n",
    "        transforms.ToTensor(),\n",
    "    ])\n",
    "\n",
    "    image = cv2.imread(image_file)\n",
    "    image = cv2.cvtColor(image, cv2.COLOR_BGR2RGB)\n",
    "    pil_img = Image.fromarray(image)\n",
    "    torch_img = transform(pil_img)\n",
    "    torch_img = torch_img.unsqueeze(0)\n",
    "    torch_img = torch_img.to(torch.device(\"cpu\"))\n",
    "\n",
    "    return image, torch_img.numpy(), torch_img\n",
    "def torch_to_onnx(torch_path, onnx_path, image_path):\n",
    "    \"\"\"\n",
    "    Converts PyTorch model file to ONNX with usable op-set\n",
    "    :param torch_path: Torch model path to load\n",
    "    :param onnx_path: ONNX model path to save\n",
    "    :param image_path: Path of test image to use in export progress\n",
    "    \"\"\"\n",
    "    pytorch_model = get_torch_model(torch_path)\n",
    "    image, tf_lite_image, torch_image = get_example_input(image_path)\n",
    "\n",
    "    torch.onnx.export(\n",
    "        model=pytorch_model,\n",
    "        args=torch_image,\n",
    "        f=onnx_path,\n",
    "        verbose=False,\n",
    "        export_params=True,\n",
    "        do_constant_folding=False,  # fold constant values for optimization\n",
    "        input_names=['input'],\n",
    "        opset_version=10,\n",
    "        output_names=['output'])\n",
    "def tf_to_tf_lite(tf_path, tf_lite_path):\n",
    "    \"\"\"\n",
    "    Converts TF saved model into TFLite model\n",
    "    :param tf_path: TF saved model path to load\n",
    "    :param tf_lite_path: TFLite model path to save\n",
    "    \"\"\"\n",
    "    converter = tf.lite.TFLiteConverter.from_saved_model(tf_path)  # Path to the SavedModel directory\n",
    "    tflite_model = converter.convert()  # Creates converter instance\n",
    "    with open(tf_lite_path, 'wb') as f:\n",
    "        f.write(tflite_model)\n",
    "def get_torch_model(model_path):\n",
    "    \"\"\"\n",
    "    Loads state-dict into model and creates an instance\n",
    "    :param model_path: State-dict path to load PyTorch model with pre-trained weights\n",
    "    :return: PyTorch model instance\n",
    "    \"\"\"\n",
    "    model = torch.load(model_path, map_location='cpu')\n",
    "    return model\n",
    "def get_tf_lite_model(model_path):\n",
    "    \"\"\"\n",
    "    Creates an instance of TFLite CPU interpreter\n",
    "    :param model_path: TFLite model path to initialize\n",
    "    :return: TFLite interpreter\n",
    "    \"\"\"\n",
    "    interpret = tf.lite.Interpreter(model_path)\n",
    "    interpret.allocate_tensors()\n",
    "    return interpret\n",
    "def predict_tf_lite(model, image):\n",
    "    \"\"\"\n",
    "    TFLite model prediction (forward propagate)\n",
    "    :param model: TFLite interpreter\n",
    "    :param image: Input image\n",
    "    :return: Numpy array with logits\n",
    "    \"\"\"\n",
    "    input_details = model.get_input_details()\n",
    "    output_details = model.get_output_details()\n",
    "    model.set_tensor(input_details[0]['index'], image)\n",
    "    model.invoke()\n",
    "    tf_lite_output = model.get_tensor(output_details[0]['index'])\n",
    "    return tf_lite_output\n",
    "def predict_torch(model, image):\n",
    "    \"\"\"\n",
    "    Torch model prediction (forward propagate)\n",
    "    :param model: PyTorch model\n",
    "    :param image: Input image\n",
    "    :return: Numpy array with logits\n",
    "    \"\"\"\n",
    "    return model(image).data.cpu().numpy()\n",
    "def convert(torch_model_path, tf_lite_model_path, image_path):\n",
    "    if os.path.exists('output'):\n",
    "        shutil.rmtree('output')\n",
    "        os.mkdir('output')\n",
    "    else:\n",
    "        os.mkdir('output')\n",
    "    ONNX_PATH = \"output/onnx_model.onnx\"\n",
    "    TF_PATH = \"output/tf_model\"\n",
    "\n",
    "    try:\n",
    "        torch_to_onnx(torch_path=torch_model_path, onnx_path=ONNX_PATH, image_path=image_path)\n",
    "        print('\\n\\nTorch to ONNX converted!\\n\\n')\n",
    "    except Exception as e:\n",
    "        print(e)\n",
    "        sys.exit(1)\n",
    "    try:\n",
    "        onnx_to_tf(onnx_path=ONNX_PATH, tf_path=TF_PATH)\n",
    "        print('\\n\\nONNX to TF converted!\\n\\n')\n",
    "    except Exception as e:\n",
    "        print(e)\n",
    "        sys.exit(1)\n",
    "    try:\n",
    "        tf_to_tf_lite(tf_path=TF_PATH, tf_lite_path=tf_lite_model_path)\n",
    "        print('\\n\\nTF to TFLite converted!\\n\\n')\n",
    "    except Exception as e:\n",
    "        print(e)\n",
    "        sys.exit(1)\n",
    "def calc_error(res1, res2, verbose=False):\n",
    "    \"\"\"\n",
    "    Calculates specified error between two results. In here Mean-Square-Error and Mean-Absolute-Error calculated\"\n",
    "    :param res1: First result\n",
    "    :param res2: Second result\n",
    "    :param verbose: Print loss results\n",
    "    :return: Loss metrics as a dictionary\n",
    "    \"\"\"\n",
    "    mse = ((res1 - res2) ** 2).mean(axis=None)\n",
    "    mae = np.abs(res1 - res2).mean(axis=None)\n",
    "    metrics = {'mse': mse, 'mae': mae}\n",
    "    if verbose:\n",
    "        print(f\"Mean-Square-Error between predictions: {metrics['mse']}\")\n",
    "        print(f\"Mean-Absolute-Error between predictions: {metrics['mae']}\\n\")\n",
    "    return metrics     \n",
    "\n",
    "def init_models(torch_model_path, tf_lite_model_path):\n",
    "    \"\"\"\n",
    "    Initialize the Torch and TFLite models\n",
    "    :param torch_model_path: Path to Torch model\n",
    "    :param tf_lite_model_path: Path to TFLite model\n",
    "    :return: CPU initialized models\n",
    "    \"\"\"\n",
    "    torch_model = get_torch_model(torch_model_path)\n",
    "    tf_lite_model = get_tf_lite_model(tf_lite_model_path)\n",
    "    return torch_model, tf_lite_model\n",
    "\n",
    "def onnx_to_tf(onnx_path, tf_path):\n",
    "    \"\"\"\n",
    "    Converts ONNX model to TF 2.X saved file\n",
    "    :param onnx_path: ONNX model path to load\n",
    "    :param tf_path: TF path to save\n",
    "    \"\"\"\n",
    "    onnx_model = onnx.load(onnx_path)\n",
    "    onnx.checker.check_model(onnx_model)  # Checks signature\n",
    "    tf_rep = prepare(onnx_model)  # Prepare TF representation\n",
    "    tf_rep.export_graph(tf_path)  # Export the model"
   ]
  },
  {
   "cell_type": "markdown",
   "metadata": {},
   "source": [
    "### ONNX 변환 예시를 위한 Pytorch 모델 "
   ]
  },
  {
   "cell_type": "code",
   "execution_count": null,
   "metadata": {
    "scrolled": true
   },
   "outputs": [],
   "source": [
    "import torchvision.models as models\n",
    "resnet50 = models.resnet50(pretrained=True)\n",
    "torch.save(resnet50, 'torch_model.pt')"
   ]
  },
  {
   "cell_type": "code",
   "execution_count": null,
   "metadata": {},
   "outputs": [],
   "source": [
    "from tensorflow.keras.preprocessing import image\n",
    "from IPython.display import display\n",
    "\n",
    "url = \"https://cdn.education.com/files/526001_527000/526114/file_526114.jpg\"\n",
    "os.system(\"curl \" + url + \" > balloon.jpg\")\n",
    "img_path = 'balloon.jpg'\n",
    "img = image.load_img(img_path, target_size=(224, 224))\n",
    "display(img)"
   ]
  },
  {
   "cell_type": "code",
   "execution_count": null,
   "metadata": {},
   "outputs": [],
   "source": [
    "convert(torch_model_path='torch_model.pt',\n",
    "        tf_lite_model_path='tflite_model.tflite',\n",
    "        image_path=img_path)"
   ]
  },
  {
   "cell_type": "code",
   "execution_count": null,
   "metadata": {},
   "outputs": [],
   "source": [
    "original_image, tf_lite_image, torch_image = get_example_input(img_path)\n",
    "torch_model, tf_lite_model = init_models('torch_model.pt', 'tflite_model.tflite')\n",
    "\n",
    "tf_lite_output = predict_tf_lite(tf_lite_model, tf_lite_image)\n",
    "torch_output = predict_torch(torch_model, torch_image)\n",
    "# Calculates loss metrics of outputs between two model\n",
    "_ = calc_error(tf_lite_output, torch_output, verbose=True)"
   ]
  },
  {
   "cell_type": "code",
   "execution_count": null,
   "metadata": {
    "scrolled": true
   },
   "outputs": [],
   "source": [
    "from tensorflow.keras.applications.resnet50 import decode_predictions\n",
    "print('Predicted:', decode_predictions(tf_lite_output, top=3)[0])"
   ]
  }
 ],
 "metadata": {
  "kernelspec": {
   "display_name": "tf-gpu",
   "language": "python",
   "name": "tf-gpu"
  },
  "language_info": {
   "codemirror_mode": {
    "name": "ipython",
    "version": 3
   },
   "file_extension": ".py",
   "mimetype": "text/x-python",
   "name": "python",
   "nbconvert_exporter": "python",
   "pygments_lexer": "ipython3",
   "version": "3.8.10"
  }
 },
 "nbformat": 4,
 "nbformat_minor": 4
}
